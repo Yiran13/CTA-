{
 "cells": [
  {
   "cell_type": "markdown",
   "metadata": {},
   "source": [
    "#### 提升方向：\n",
    "- 止盈和止损点位\n",
    "- 将RSI window dynamic\n"
   ]
  },
  {
   "cell_type": "markdown",
   "metadata": {},
   "source": [
    "#### 止盈设置\n",
    "- ATR Rachket\n",
    "- 将止盈从原先的固定0.05变为浮动\n",
    "     - 持仓周期\n",
    "     - ATR波动挂钩 \n",
    "- 观察不同阈值下触及止盈和止损的位置\n",
    "\n",
    "#### 噪音观察\n",
    "- 解释DrawBack的原因\n"
   ]
  },
  {
   "cell_type": "code",
   "execution_count": 1,
   "metadata": {},
   "outputs": [],
   "source": [
    "import sys\n",
    "sys.path.append('D:/vnpy_strategies/DoubleRsi')\n",
    "import numpy as np\n",
    "import pandas as pd\n",
    "from vnpy.app.cta_strategy.backtesting import BacktestingEngine, OptimizationSetting\n",
    "from datetime import datetime\n",
    "from double_rsi_atr import DoubleRsiAtr\n",
    "from rsi_dollar_atr import RsiDollarATR\n",
    "from rsi_dollor import RsiDollar\n",
    "from double_rsi_signal import DoubleSignalGenerator\n",
    "from trade_by_trade import (calculate_trades_result, generate_trade_df)\n",
    "import matplotlib.pyplot as plt\n",
    "import talib"
   ]
  },
  {
   "cell_type": "code",
   "execution_count": null,
   "metadata": {},
   "outputs": [],
   "source": [
    "start_time = datetime(2010, 10, 1)\n",
    "end_time = datetime(2019, 4, 30)"
   ]
  },
  {
   "cell_type": "code",
   "execution_count": null,
   "metadata": {},
   "outputs": [],
   "source": [
    "strategy_parameters={'s_window':5,'l_window':15,'atr_window':35,'atr_multiplier':0.25,'exit_return_soft_long':-0.1,\n",
    "                     'obv_window':35,'minus_dm_window':35,'mfi_window':35,'ad_window':35,'adosc_window':35,'plus_dm_window':35,\n",
    "                     'dx_window':35,'adx_window':35,\n",
    "                     'exit_loss_soft_long':-0.2,'rsi_window':11,'exit_return_soft_short':0.05,'exit_loss_soft_short':0.3,\n",
    "                     'long_threshold_l_window': 50, 'long_threshold_s_window':80,'exit_return':0.09,'exit_loss':0.01,'fixed_size':1}\n"
   ]
  },
  {
   "cell_type": "code",
   "execution_count": null,
   "metadata": {},
   "outputs": [],
   "source": [
    "engine = BacktestingEngine()\n",
    "engine.set_parameters(\n",
    "    vt_symbol=\"IF888.CFFEX\",\n",
    "    interval=\"1m\",\n",
    "    start= start_time,\n",
    "    end= end_time,\n",
    "    rate=5/10000,\n",
    "    slippage=0.6,\n",
    "    size=300,\n",
    "    pricetick=0.2,\n",
    "    capital=1_000_000,\n",
    ")\n",
    "engine.add_strategy(DoubleRsiAtr, strategy_parameters)"
   ]
  },
  {
   "cell_type": "code",
   "execution_count": null,
   "metadata": {},
   "outputs": [],
   "source": [
    "engine.load_data()\n",
    "engine.run_backtesting()\n",
    "df = engine.calculate_result()\n",
    "summary_dict = engine.calculate_statistics()"
   ]
  },
  {
   "cell_type": "code",
   "execution_count": null,
   "metadata": {},
   "outputs": [],
   "source": [
    "engine.show_chart()"
   ]
  },
  {
   "cell_type": "code",
   "execution_count": null,
   "metadata": {
    "tags": [
     "起点"
    ]
   },
   "outputs": [],
   "source": [
    "engine = BacktestingEngine()\n",
    "engine.set_parameters(\n",
    "    vt_symbol=\"IF888.CFFEX\",\n",
    "    interval=\"1m\",\n",
    "    start = start_time,\n",
    "    end = end_time,\n",
    "    rate=5/10000,\n",
    "    slippage=0.6,\n",
    "    size=300,\n",
    "    pricetick=0.2,\n",
    "    capital=1_000_000,\n",
    ")\n",
    "engine.add_strategy(DoubleSignalGenerator, strategy_parameters)\n",
    "engine.load_data()\n",
    "engine.run_backtesting()\n",
    "df = engine.calculate_result()\n",
    "summary_dict = engine.calculate_statistics()"
   ]
  },
  {
   "cell_type": "code",
   "execution_count": null,
   "metadata": {},
   "outputs": [],
   "source": [
    "rsi_value_l_window = pd.Series(engine.strategy.rsi_value_recorder_l_window,index=engine.strategy.rsi_time_recorder_l_window)\n",
    "rsi_value_s_window =pd.Series(engine.strategy.rsi_value_recorder_s_window,index=engine.strategy.rsi_time_recorder_s_window)\n",
    "atr_value = pd.Series(engine.strategy.atr_value_recorder,index=engine.strategy.atr_time_recorder)\n",
    "obv_value = pd.Series(engine.strategy.obv_value_recorder,index=engine.strategy.obv_time_recorder)\n",
    "minus_dm_value = pd.Series(engine.strategy.minus_dm_value_recorder,index=engine.strategy.minus_dm_time_recorder)\n",
    "mfi_value = pd.Series(engine.strategy.mfi_value_recorder,index=engine.strategy.mfi_time_recorder)\n",
    "ad_value = pd.Series(engine.strategy.ad_value_recorder,index=engine.strategy.ad_time_recorder)\n",
    "adosc_value = pd.Series(engine.strategy.adosc_value_recorder,index=engine.strategy.adosc_time_recorder)\n",
    "plus_dm_value =pd.Series(engine.strategy.plus_dm_value_recorder,index=engine.strategy.plus_dm_time_recorder)\n",
    "dx_value = pd.Series(engine.strategy.dx_value_recorder,index=engine.strategy.dx_time_recorder)\n",
    "adx_value = pd.Series(engine.strategy.adx_value_recorder,index=engine.strategy.adx_time_recorder)"
   ]
  },
  {
   "cell_type": "code",
   "execution_count": null,
   "metadata": {},
   "outputs": [],
   "source": [
    "indicator_df = pd.concat([rsi_value_s_window,rsi_value_l_window.reindex(rsi_value_s_window.index,method='ffill'),atr_value,obv_value,\n",
    "                          minus_dm_value,mfi_value,ad_value,adosc_value,plus_dm_value,dx_value,adx_value],axis=1)\n",
    "indicator_df.columns = ['rsi_short_window','rsi_long_window','atr','obv','minus_dm','mfi','ad','adosc','plus_dm','dx','adx']\n",
    "indicator_df.dropna(inplace=True)"
   ]
  },
  {
   "cell_type": "markdown",
   "metadata": {},
   "source": [
    "### 最大回撤区间\n",
    "- 2013-2015\n",
    "- 2016-2017\n",
    "\n",
    "### 最小回撤区间\n",
    "- 2011 -2013"
   ]
  },
  {
   "cell_type": "code",
   "execution_count": null,
   "metadata": {
    "tags": [
     "ATR在不同DrawBack_Period下"
    ]
   },
   "outputs": [],
   "source": [
    "fig = plt.figure(figsize=(25,10))\n",
    "\n",
    "plt.plot(indicator_df['atr']['2011-01-01':'2013-12-31'],'g-',label='slightly_draw_back_period')\n",
    "plt.plot(indicator_df['atr']['2014-01-01':'2015-01-01'],'r-',label='heavily_draw_back_period')\n",
    "plt.plot(indicator_df['atr']['2015-01-01':'2015-12-31'],'g-')\n",
    "plt.plot(indicator_df['atr']['2016-01-01':'2016-12-31'],'r-')\n",
    "plt.plot(indicator_df['atr']['2017-01-01':'2017-12-31'],'g-')\n",
    "plt.plot(indicator_df['atr']['2018-01-01':'2018-12-31'],'r-')\n",
    "plt.plot(indicator_df['atr']['2019-01-01':'2019-12-31'],'g-')\n",
    "plt.legend()\n",
    "# # ax1.plot(long_accuracy_with_fee,'r-',label='long_side_accuracy')\n",
    "# ax2.plot(two_pnl_df['close'],'b--',label='close')\n",
    "# plt.legend()\n"
   ]
  },
  {
   "cell_type": "markdown",
   "metadata": {},
   "source": [
    "### Indicator 和 策略 DrawBack\n",
    "- 将DrawBack分成两个阶段：*Slightly DrawBack，Heavily DrawBack*\n",
    "    - *RSI* 指标没办法区别这两个*DrawBack* period\n",
    "    - *ATR* 指标似乎对这两个*DrawBack* period 有一定程度的区分\n",
    "    "
   ]
  },
  {
   "cell_type": "code",
   "execution_count": null,
   "metadata": {
    "tags": [
     "short_RSI在不同DrawBack_Period下"
    ]
   },
   "outputs": [],
   "source": [
    "fig = plt.figure(figsize=(25,10))\n",
    "\n",
    "plt.plot(indicator_df['rsi_short_window']['2011-01-01':'2013-12-31'],'g-',label='slightly_draw_back_period')\n",
    "plt.plot(indicator_df['rsi_short_window']['2014-01-01':'2015-01-01'],'r-',label='heavily_draw_back_period')\n",
    "plt.plot(indicator_df['rsi_short_window']['2015-01-01':'2015-12-31'],'g-')\n",
    "plt.plot(indicator_df['rsi_short_window']['2016-01-01':'2016-12-31'],'r-')\n",
    "plt.plot(indicator_df['rsi_short_window']['2017-01-01':'2017-12-31'],'g-')\n",
    "plt.plot(indicator_df['rsi_short_window']['2018-01-01':'2018-12-31'],'r-')\n",
    "plt.plot(indicator_df['rsi_short_window']['2019-01-01':'2019-12-31'],'g-')\n",
    "plt.legend()"
   ]
  },
  {
   "cell_type": "code",
   "execution_count": null,
   "metadata": {
    "tags": [
     "Long_RSI在不同DrawBack_Period下"
    ]
   },
   "outputs": [],
   "source": [
    "fig = plt.figure(figsize=(25,10))\n",
    "\n",
    "plt.plot(indicator_df['rsi_long_window']['2011-01-01':'2013-12-31'],'g-',label='slightly_draw_back_period')\n",
    "plt.plot(indicator_df['rsi_long_window']['2014-01-01':'2015-01-01'],'r-',label='heavily_draw_back_period')\n",
    "plt.plot(indicator_df['rsi_long_window']['2015-01-01':'2015-12-31'],'g-')\n",
    "plt.plot(indicator_df['rsi_long_window']['2016-01-01':'2016-12-31'],'r-')\n",
    "plt.plot(indicator_df['rsi_long_window']['2017-01-01':'2017-12-31'],'g-')\n",
    "plt.plot(indicator_df['rsi_long_window']['2018-01-01':'2018-12-31'],'r-')\n",
    "plt.plot(indicator_df['rsi_long_window']['2019-01-01':'2019-12-31'],'g-')\n",
    "plt.legend()"
   ]
  },
  {
   "cell_type": "code",
   "execution_count": null,
   "metadata": {
    "tags": [
     "OBV在不同DrawBack_Period下"
    ]
   },
   "outputs": [],
   "source": [
    "fig = plt.figure(figsize=(25,10))\n",
    "\n",
    "plt.plot(indicator_df['obv']['2011-01-01':'2013-12-31'],'g-',label='slightly_draw_back_period')\n",
    "plt.plot(indicator_df['obv']['2014-01-01':'2015-01-01'],'r-',label='heavily_draw_back_period')\n",
    "plt.plot(indicator_df['obv']['2015-01-01':'2015-12-31'],'g-')\n",
    "plt.plot(indicator_df['obv']['2016-01-01':'2016-12-31'],'r-')\n",
    "plt.plot(indicator_df['obv']['2017-01-01':'2017-12-31'],'g-')\n",
    "plt.plot(indicator_df['obv']['2018-01-01':'2018-12-31'],'r-')\n",
    "plt.plot(indicator_df['obv']['2019-01-01':'2019-12-31'],'g-')\n",
    "plt.legend()"
   ]
  },
  {
   "cell_type": "code",
   "execution_count": null,
   "metadata": {
    "tags": [
     "Minus_dm在不同DrawBack_Period下"
    ]
   },
   "outputs": [],
   "source": [
    "fig = plt.figure(figsize=(25,10))\n",
    "\n",
    "plt.plot(indicator_df['minus_dm']['2011-01-01':'2013-12-31'],'g-',label='slightly_draw_back_period')\n",
    "plt.plot(indicator_df['minus_dm']['2014-01-01':'2015-01-01'],'r-',label='heavily_draw_back_period')\n",
    "plt.plot(indicator_df['minus_dm']['2015-01-01':'2015-12-31'],'g-')\n",
    "plt.plot(indicator_df['minus_dm']['2016-01-01':'2016-12-31'],'r-')\n",
    "plt.plot(indicator_df['minus_dm']['2017-01-01':'2017-12-31'],'g-')\n",
    "plt.plot(indicator_df['minus_dm']['2018-01-01':'2018-12-31'],'r-')\n",
    "plt.plot(indicator_df['minus_dm']['2019-01-01':'2019-12-31'],'g-')\n",
    "plt.legend()"
   ]
  },
  {
   "cell_type": "code",
   "execution_count": null,
   "metadata": {
    "tags": [
     "MFI",
     "没办法区分"
    ]
   },
   "outputs": [],
   "source": [
    "\n",
    "fig = plt.figure(figsize=(25,10))\n",
    "\n",
    "plt.plot(indicator_df['mfi']['2011-01-01':'2013-12-31'],'g-',label='slightly_draw_back_period')\n",
    "plt.plot(indicator_df['mfi']['2014-01-01':'2015-01-01'],'r-',label='heavily_draw_back_period')\n",
    "plt.plot(indicator_df['mfi']['2015-01-01':'2015-12-31'],'g-')\n",
    "plt.plot(indicator_df['mfi']['2016-01-01':'2016-12-31'],'r-')\n",
    "plt.plot(indicator_df['mfi']['2017-01-01':'2017-12-31'],'g-')\n",
    "plt.plot(indicator_df['mfi']['2018-01-01':'2018-12-31'],'r-')\n",
    "plt.plot(indicator_df['mfi']['2019-01-01':'2019-12-31'],'g-')\n",
    "plt.legend()"
   ]
  },
  {
   "cell_type": "code",
   "execution_count": null,
   "metadata": {},
   "outputs": [],
   "source": [
    "\n",
    "fig = plt.figure(figsize=(25,10))\n",
    "\n",
    "plt.plot(indicator_df['ad']['2011-01-01':'2013-12-31'],'g-',label='slightly_draw_back_period')\n",
    "plt.plot(indicator_df['ad']['2014-01-01':'2015-01-01'],'r-',label='heavily_draw_back_period')\n",
    "plt.plot(indicator_df['ad']['2015-01-01':'2015-12-31'],'g-')\n",
    "plt.plot(indicator_df['ad']['2016-01-01':'2016-12-31'],'r-')\n",
    "plt.plot(indicator_df['ad']['2017-01-01':'2017-12-31'],'g-')\n",
    "plt.plot(indicator_df['ad']['2018-01-01':'2018-12-31'],'r-')\n",
    "plt.plot(indicator_df['ad']['2019-01-01':'2019-12-31'],'g-')\n",
    "plt.legend()"
   ]
  },
  {
   "cell_type": "code",
   "execution_count": null,
   "metadata": {
    "tags": [
     "ADOSC"
    ]
   },
   "outputs": [],
   "source": [
    "fig = plt.figure(figsize=(25,10))\n",
    "\n",
    "plt.plot(indicator_df['adosc']['2011-01-01':'2013-12-31'],'g-',label='slightly_draw_back_period')\n",
    "plt.plot(indicator_df['adosc']['2014-01-01':'2015-01-01'],'r-',label='heavily_draw_back_period')\n",
    "plt.plot(indicator_df['adosc']['2015-01-01':'2015-12-31'],'g-')\n",
    "plt.plot(indicator_df['adosc']['2016-01-01':'2016-12-31'],'r-')\n",
    "plt.plot(indicator_df['adosc']['2017-01-01':'2017-12-31'],'g-')\n",
    "plt.plot(indicator_df['adosc']['2018-01-01':'2018-12-31'],'r-')\n",
    "plt.plot(indicator_df['adosc']['2019-01-01':'2019-12-31'],'g-')\n",
    "plt.legend()"
   ]
  },
  {
   "cell_type": "code",
   "execution_count": null,
   "metadata": {
    "tags": [
     "Plus_dm"
    ]
   },
   "outputs": [],
   "source": [
    "fig = plt.figure(figsize=(25,10))\n",
    "\n",
    "plt.plot(indicator_df['plus_dm']['2011-01-01':'2013-12-31'],'g-',label='slightly_draw_back_period')\n",
    "plt.plot(indicator_df['plus_dm']['2014-01-01':'2015-01-01'],'r-',label='heavily_draw_back_period')\n",
    "plt.plot(indicator_df['plus_dm']['2015-01-01':'2015-12-31'],'g-')\n",
    "plt.plot(indicator_df['plus_dm']['2016-01-01':'2016-12-31'],'r-')\n",
    "plt.plot(indicator_df['plus_dm']['2017-01-01':'2017-12-31'],'g-')\n",
    "plt.plot(indicator_df['plus_dm']['2018-01-01':'2018-12-31'],'r-')\n",
    "plt.plot(indicator_df['plus_dm']['2019-01-01':'2019-12-31'],'g-')\n",
    "plt.legend()"
   ]
  },
  {
   "cell_type": "code",
   "execution_count": null,
   "metadata": {},
   "outputs": [],
   "source": [
    "fig = plt.figure(figsize=(25,10))\n",
    "\n",
    "plt.plot(indicator_df['dx']['2011-01-01':'2013-12-31'],'g-',label='slightly_draw_back_period')\n",
    "plt.plot(indicator_df['dx']['2014-01-01':'2015-01-01'],'r-',label='heavily_draw_back_period')\n",
    "plt.plot(indicator_df['dx']['2015-01-01':'2015-12-31'],'g-')\n",
    "plt.plot(indicator_df['dx']['2016-01-01':'2016-12-31'],'r-')\n",
    "plt.plot(indicator_df['dx']['2017-01-01':'2017-12-31'],'g-')\n",
    "plt.plot(indicator_df['dx']['2018-01-01':'2018-12-31'],'r-')\n",
    "plt.plot(indicator_df['dx']['2019-01-01':'2019-12-31'],'g-')\n",
    "plt.legend()\n",
    "\n"
   ]
  },
  {
   "cell_type": "code",
   "execution_count": null,
   "metadata": {},
   "outputs": [],
   "source": [
    "fig = plt.figure(figsize=(25,10))\n",
    "\n",
    "plt.plot(indicator_df['adx']['2011-01-01':'2013-12-31'],'g-',label='slightly_draw_back_period')\n",
    "plt.plot(indicator_df['adx']['2014-01-01':'2015-01-01'],'r-',label='heavily_draw_back_period')\n",
    "plt.plot(indicator_df['adx']['2015-01-01':'2015-12-31'],'g-')\n",
    "plt.plot(indicator_df['adx']['2016-01-01':'2016-12-31'],'r-')\n",
    "plt.plot(indicator_df['adx']['2017-01-01':'2017-12-31'],'g-')\n",
    "plt.plot(indicator_df['adx']['2018-01-01':'2018-12-31'],'r-')\n",
    "plt.plot(indicator_df['adx']['2019-01-01':'2019-12-31'],'g-')\n",
    "plt.legend()"
   ]
  },
  {
   "cell_type": "code",
   "execution_count": null,
   "metadata": {},
   "outputs": [],
   "source": [
    "np.sum([1,2,3])"
   ]
  },
  {
   "cell_type": "code",
   "execution_count": 50,
   "metadata": {},
   "outputs": [],
   "source": [
    "start_time = datetime(2015, 1, 1)\n",
    "end_time = datetime(2016, 9, 30)"
   ]
  },
  {
   "cell_type": "code",
   "execution_count": 56,
   "metadata": {},
   "outputs": [
    {
     "name": "stdout",
     "output_type": "stream",
     "text": [
      "2020-04-18 20:07:03.640316\t开始加载历史数据\n",
      "2020-04-18 20:07:03.640316\t加载进度： [5%]\n",
      "2020-04-18 20:07:03.640316\t加载进度： [9%]\n",
      "2020-04-18 20:07:03.640316\t加载进度：# [14%]\n",
      "2020-04-18 20:07:03.640316\t加载进度：# [19%]\n",
      "2020-04-18 20:07:03.640316\t加载进度：## [24%]\n",
      "2020-04-18 20:07:03.640316\t加载进度：## [28%]\n",
      "2020-04-18 20:07:03.640316\t加载进度：### [33%]\n",
      "2020-04-18 20:07:03.640316\t加载进度：### [38%]\n",
      "2020-04-18 20:07:03.640316\t加载进度：#### [42%]\n",
      "2020-04-18 20:07:03.640316\t加载进度：#### [47%]\n",
      "2020-04-18 20:07:03.640316\t加载进度：##### [52%]\n",
      "2020-04-18 20:07:03.640316\t加载进度：##### [56%]\n",
      "2020-04-18 20:07:03.640316\t加载进度：###### [61%]\n",
      "2020-04-18 20:07:03.640316\t加载进度：###### [66%]\n",
      "2020-04-18 20:07:03.640316\t加载进度：####### [71%]\n",
      "2020-04-18 20:07:03.640316\t加载进度：####### [75%]\n",
      "2020-04-18 20:07:03.640316\t加载进度：####### [80%]\n",
      "2020-04-18 20:07:03.640316\t加载进度：######## [85%]\n",
      "2020-04-18 20:07:03.640316\t加载进度：######## [89%]\n",
      "2020-04-18 20:07:03.640316\t加载进度：######### [94%]\n",
      "2020-04-18 20:07:03.640316\t加载进度：######### [99%]\n",
      "2020-04-18 20:07:03.640316\t加载进度：########## [100%]\n",
      "2020-04-18 20:07:03.640316\t历史数据加载完成，数据量：109800\n",
      "2020-04-18 20:07:04.298006\t策略初始化完成\n",
      "2020-04-18 20:07:04.298006\t开始回放历史数据\n",
      "2020-04-18 20:19:38.001886\t历史数据回放结束\n",
      "2020-04-18 20:19:38.002885\t开始计算逐日盯市盈亏\n",
      "2020-04-18 20:19:38.006908\t逐日盯市盈亏计算完成\n",
      "2020-04-18 20:19:38.006908\t开始计算策略统计指标\n",
      "2020-04-18 20:19:38.013145\t------------------------------\n",
      "2020-04-18 20:19:38.013145\t首个交易日：\t2015-01-19\n",
      "2020-04-18 20:19:38.013145\t最后交易日：\t2016-09-29\n",
      "2020-04-18 20:19:38.013145\t总交易日：\t417\n",
      "2020-04-18 20:19:38.014105\t盈利交易日：\t42\n",
      "2020-04-18 20:19:38.014105\t亏损交易日：\t53\n",
      "2020-04-18 20:19:38.014105\t起始资金：\t1,000,000.00\n",
      "2020-04-18 20:19:38.014105\t结束资金：\t828,920.02\n",
      "2020-04-18 20:19:38.014105\t总收益率：\t-17.11%\n",
      "2020-04-18 20:19:38.014105\t年化收益：\t-9.85%\n",
      "2020-04-18 20:19:38.015352\t最大回撤: \t-243,806.61\n",
      "2020-04-18 20:19:38.015352\t百分比最大回撤: -23.32%\n",
      "2020-04-18 20:19:38.015352\t最长回撤天数: \t184\n",
      "2020-04-18 20:19:38.015352\t总盈亏：\t-171,079.98\n",
      "2020-04-18 20:19:38.015352\t总手续费：\t33,439.98\n",
      "2020-04-18 20:19:38.015352\t总滑点：\t14,760.00\n",
      "2020-04-18 20:19:38.015352\t总成交金额：\t66,879,960.00\n",
      "2020-04-18 20:19:38.016377\t总成交笔数：\t82\n",
      "2020-04-18 20:19:38.016377\t日均盈亏：\t-410.26\n",
      "2020-04-18 20:19:38.016377\t日均手续费：\t80.19\n",
      "2020-04-18 20:19:38.016377\t日均滑点：\t35.40\n",
      "2020-04-18 20:19:38.016377\t日均成交金额：\t160,383.60\n",
      "2020-04-18 20:19:38.017371\t日均成交笔数：\t0.19664268585131894\n",
      "2020-04-18 20:19:38.017371\t日均收益率：\t-0.06%\n",
      "2020-04-18 20:19:38.017371\t收益标准差：\t1.31%\n",
      "2020-04-18 20:19:38.017371\tSharpe Ratio：\t-0.66\n",
      "2020-04-18 20:19:38.017371\t收益回撤比：\t-0.73\n",
      "2020-04-18 20:19:38.018344\t策略统计指标计算完成\n"
     ]
    }
   ],
   "source": [
    "engine = BacktestingEngine()\n",
    "engine.set_parameters(\n",
    "    vt_symbol=\"IF888.CFFEX\",\n",
    "    interval=\"1m\",\n",
    "    start = start_time,\n",
    "    end = end_time,\n",
    "    rate=5/10000,\n",
    "    slippage=0.6,\n",
    "    size=300,\n",
    "    pricetick=0.2,\n",
    "    capital=1_000_000,\n",
    ")\n",
    "engine.add_strategy(RsiDollarATR,{'atr_multiplier':1,'cross_over_day':10})\n",
    "engine.load_data()\n",
    "engine.run_backtesting()\n",
    "df = engine.calculate_result()\n",
    "summary_dict = engine.calculate_statistics()"
   ]
  },
  {
   "cell_type": "code",
   "execution_count": 52,
   "metadata": {},
   "outputs": [
    {
     "data": {
      "image/png": "[encoded data removed]",
      "text/plain": [
       "<Figure size 720x1152 with 4 Axes>"
      ]
     },
     "metadata": {
      "needs_background": "light"
     },
     "output_type": "display_data"
    }
   ],
   "source": [
    "engine.show_chart()"
   ]
  },
  {
   "cell_type": "code",
   "execution_count": 53,
   "metadata": {},
   "outputs": [],
   "source": [
    "cum_close = pd.Series(engine.strategy.cum_close_list,index=engine.strategy.cum_time_list)\n",
    "cum_open = pd.Series(engine.strategy.cum_open_list,index=engine.strategy.cum_time_list)\n",
    "cum_high = pd.Series(engine.strategy.cum_high_list,index=engine.strategy.cum_time_list)\n",
    "cum_low = pd.Series(engine.strategy.cum_low_list,index=engine.strategy.cum_time_list)\n",
    "cum_volume = pd.Series(engine.strategy.cum_volume_list,index=engine.strategy.cum_time_list)\n",
    "cum_df = pd.concat([cum_open,cum_high,cum_low,cum_close,cum_volume],axis = 1)\n",
    "cum_df.columns = ['open','high','low','close','volume']"
   ]
  },
  {
   "cell_type": "code",
   "execution_count": 54,
   "metadata": {},
   "outputs": [
    {
     "data": {
      "text/plain": [
       "<matplotlib.axes._subplots.AxesSubplot at 0x19bd51aeb70>"
      ]
     },
     "execution_count": 54,
     "metadata": {},
     "output_type": "execute_result"
    },
    {
     "data": {
      "image/png": "[encoded data removed]",
      "text/plain": [
       "<Figure size 432x288 with 1 Axes>"
      ]
     },
     "metadata": {
      "needs_background": "light"
     },
     "output_type": "display_data"
    }
   ],
   "source": [
    "cum_close.plot()"
   ]
  },
  {
   "cell_type": "code",
   "execution_count": 55,
   "metadata": {},
   "outputs": [],
   "source": [
    "trade_df_with_fee = generate_trade_df(engine.trades,size=300, rate=5/10000, slippage=0.6,capital=100_00_00)\n",
    "threshold_return = 0\n",
    "model_accuracy_with_fee = np.sum(trade_df_with_fee['net_pnl']>threshold_return)/trade_df_with_fee['net_pnl'].shape[0]"
   ]
  },
  {
   "cell_type": "code",
   "execution_count": 35,
   "metadata": {},
   "outputs": [
    {
     "data": {
      "text/plain": [
       "15"
      ]
     },
     "execution_count": 35,
     "metadata": {},
     "output_type": "execute_result"
    }
   ],
   "source": [
    "len(engine.strategy.short_order_record)"
   ]
  },
  {
   "cell_type": "code",
   "execution_count": 36,
   "metadata": {},
   "outputs": [
    {
     "data": {
      "text/plain": [
       "14"
      ]
     },
     "execution_count": 36,
     "metadata": {},
     "output_type": "execute_result"
    }
   ],
   "source": [
    "len(engine.strategy.long_order_record)"
   ]
  },
  {
   "cell_type": "code",
   "execution_count": 33,
   "metadata": {},
   "outputs": [
    {
     "data": {
      "text/plain": [
       "<matplotlib.axes._subplots.AxesSubplot at 0x19bce049860>"
      ]
     },
     "execution_count": 33,
     "metadata": {},
     "output_type": "execute_result"
    },
    {
     "data": {
      "image/png": "[encoded data removed]",
      "text/plain": [
       "<Figure size 432x288 with 1 Axes>"
      ]
     },
     "metadata": {
      "needs_background": "light"
     },
     "output_type": "display_data"
    }
   ],
   "source": [
    "trade_df_with_fee['balance'].plot()"
   ]
  },
  {
   "cell_type": "code",
   "execution_count": 34,
   "metadata": {},
   "outputs": [
    {
     "data": {
      "text/plain": [
       "TradeData(gateway_name='BACKTESTING', symbol='IF888', exchange=<Exchange.CFFEX: 'CFFEX'>, orderid='1', tradeid='1', direction=<Direction.LONG: '多'>, offset=<Offset.OPEN: '开'>, price=3981.4, volume=1, time='14:39:00')"
      ]
     },
     "execution_count": 34,
     "metadata": {},
     "output_type": "execute_result"
    }
   ],
   "source": [
    "engine.trades['BACKTESTING.1']"
   ]
  },
  {
   "cell_type": "code",
   "execution_count": null,
   "metadata": {},
   "outputs": [],
   "source": []
  },
  {
   "cell_type": "code",
   "execution_count": null,
   "metadata": {},
   "outputs": [],
   "source": [
    "engine.strategy.hold_bar_num"
   ]
  },
  {
   "cell_type": "code",
   "execution_count": null,
   "metadata": {},
   "outputs": [],
   "source": [
    "engine.strategy."
   ]
  },
  {
   "cell_type": "code",
   "execution_count": null,
   "metadata": {},
   "outputs": [],
   "source": [
    "engine.strategy.pos"
   ]
  },
  {
   "cell_type": "code",
   "execution_count": null,
   "metadata": {},
   "outputs": [],
   "source": [
    "trade_df_with_fee['net_pnl'].cumsum().plot()"
   ]
  },
  {
   "cell_type": "code",
   "execution_count": null,
   "metadata": {},
   "outputs": [],
   "source": [
    "cum_df['double_ma_buy']['2018-02-26':]"
   ]
  },
  {
   "cell_type": "code",
   "execution_count": null,
   "metadata": {},
   "outputs": [],
   "source": [
    "cum_df['double_ma_sell']['2018-02-26']"
   ]
  },
  {
   "cell_type": "code",
   "execution_count": null,
   "metadata": {},
   "outputs": [],
   "source": [
    "calculate_trades_result(engine.trades)"
   ]
  },
  {
   "cell_type": "code",
   "execution_count": null,
   "metadata": {},
   "outputs": [],
   "source": [
    "engine.strategy.short_order_record[-1]"
   ]
  },
  {
   "cell_type": "code",
   "execution_count": null,
   "metadata": {},
   "outputs": [],
   "source": [
    "4030"
   ]
  },
  {
   "cell_type": "code",
   "execution_count": null,
   "metadata": {},
   "outputs": [],
   "source": [
    "engine.strategy.short_order_record[-1]*(1-0.02)+3*1*engine.strategy.atr_value"
   ]
  },
  {
   "cell_type": "code",
   "execution_count": null,
   "metadata": {},
   "outputs": [],
   "source": [
    "engine.strategy.atr_value"
   ]
  },
  {
   "cell_type": "code",
   "execution_count": null,
   "metadata": {},
   "outputs": [],
   "source": [
    "engine.strategy.short_order_record[-1]*1.02-200*0.05*engine.strategy.atr_value"
   ]
  },
  {
   "cell_type": "code",
   "execution_count": null,
   "metadata": {},
   "outputs": [],
   "source": [
    "engine.strategy.short_order_record[-1]*1.02+engine.strategy.hold_bar_num*0.05*engine.strategy.atr_value"
   ]
  },
  {
   "cell_type": "code",
   "execution_count": null,
   "metadata": {},
   "outputs": [],
   "source": [
    "(engine.strategy.hold_bar_num+1)*0.05*engine.strategy.atr_value"
   ]
  },
  {
   "cell_type": "code",
   "execution_count": null,
   "metadata": {},
   "outputs": [],
   "source": [
    "engine.strategy.exit_price"
   ]
  },
  {
   "cell_type": "code",
   "execution_count": null,
   "metadata": {},
   "outputs": [],
   "source": [
    "cum_close[-1]"
   ]
  },
  {
   "cell_type": "code",
   "execution_count": null,
   "metadata": {},
   "outputs": [],
   "source": [
    "engine.strategy.hold_bar_num"
   ]
  },
  {
   "cell_type": "code",
   "execution_count": null,
   "metadata": {},
   "outputs": [],
   "source": [
    "cum_close"
   ]
  },
  {
   "cell_type": "code",
   "execution_count": null,
   "metadata": {},
   "outputs": [],
   "source": [
    "trade_df_with_fee"
   ]
  },
  {
   "cell_type": "code",
   "execution_count": null,
   "metadata": {},
   "outputs": [],
   "source": []
  },
  {
   "cell_type": "code",
   "execution_count": null,
   "metadata": {},
   "outputs": [],
   "source": [
    "dollar_close = pd.Series(engine.strategy.close_list,index=engine.strategy.time_list)\n",
    "dollar_open = pd.Series(engine.strategy.open_list,index=engine.strategy.time_list)\n",
    "dollar_high = pd.Series(engine.strategy.high_list,index=engine.strategy.time_list)\n",
    "dollar_low = pd.Series(engine.strategy.low_list,index=engine.strategy.time_list)\n",
    "dollar_volume = pd.Series(engine.strategy.volume_list,index=engine.strategy.time_list)\n",
    "dollar_df = pd.concat([dollar_open,dollar_high,dollar_low,dollar_close,dollar_volume],axis = 1)\n",
    "\n",
    "dollar_df.columns = ['open','high','low','close','volume']"
   ]
  },
  {
   "cell_type": "code",
   "execution_count": null,
   "metadata": {},
   "outputs": [],
   "source": [
    "bb_windows = 14\n",
    "dollar_df['up'],_,dollar_df['down']=talib.BBANDS(dollar_close,bb_windows)\n",
    "cum_df['up'],_,cum_df['down']=talib.BBANDS(cum_close,bb_windows)"
   ]
  },
  {
   "cell_type": "code",
   "execution_count": null,
   "metadata": {},
   "outputs": [],
   "source": [
    "rsi_window = 14\n",
    "rsi_up_threshold = 70\n",
    "rsi_down_threshold = 30\n",
    "cum_df['ma5'],cum_df['ma20'] = talib.SMA(cum_close,5),talib.SMA(cum_close,20)\n",
    "cum_df['double_ma_buy'] = np.where(cum_df['ma5']-cum_df['ma20']>0,1,0)\n",
    "cum_df['double_ma_sell'] = np.where(cum_df['ma5']-cum_df['ma20']<0,1,0)\n",
    "cum_df['rsi'] = talib.RSI(cum_close,rsi_window)\n",
    "cum_df['sell_signal_rsi'] = np.where(cum_df['rsi']>rsi_up_threshold,1,0)\n",
    "cum_df['buy_signal_rsi'] = np.where(cum_df['rsi']<rsi_down_threshold,1,0)\n"
   ]
  },
  {
   "cell_type": "code",
   "execution_count": null,
   "metadata": {},
   "outputs": [],
   "source": [
    "cum_df[['close','buy_signal_rsi']].plot(secondary_y='close',figsize=(25,10),alpha=0.5)"
   ]
  },
  {
   "cell_type": "code",
   "execution_count": null,
   "metadata": {},
   "outputs": [],
   "source": [
    "cum_df[['close','double_ma_buy']].plot(secondary_y='close',figsize=(25,10),alpha=0.5)"
   ]
  },
  {
   "cell_type": "code",
   "execution_count": null,
   "metadata": {},
   "outputs": [],
   "source": [
    "cum_df[['close','double_ma_sell']].plot(secondary_y='close',figsize=(25,10),alpha=0.5)"
   ]
  },
  {
   "cell_type": "code",
   "execution_count": null,
   "metadata": {},
   "outputs": [],
   "source": [
    "3000*0.02/(68*0.05)"
   ]
  },
  {
   "cell_type": "code",
   "execution_count": null,
   "metadata": {},
   "outputs": [],
   "source": [
    "talib.ATR(cum_high,cum_low,cum_close).describe()"
   ]
  },
  {
   "cell_type": "code",
   "execution_count": null,
   "metadata": {},
   "outputs": [],
   "source": [
    "cum_df['rsi'].describe()"
   ]
  },
  {
   "cell_type": "code",
   "execution_count": null,
   "metadata": {},
   "outputs": [],
   "source": [
    "cum_df[['close','buy_signal','sell_signal']].plot(secondary_y='close',figsize=(25,10))\n"
   ]
  },
  {
   "cell_type": "code",
   "execution_count": null,
   "metadata": {},
   "outputs": [],
   "source": [
    "dollar_df[['close']].plot(figsize=(25,10))"
   ]
  },
  {
   "cell_type": "code",
   "execution_count": null,
   "metadata": {},
   "outputs": [],
   "source": [
    "dollar_df['2010-10-14'].index"
   ]
  },
  {
   "cell_type": "code",
   "execution_count": null,
   "metadata": {},
   "outputs": [],
   "source": [
    "engine.strategy.long_trend_cum"
   ]
  },
  {
   "cell_type": "code",
   "execution_count": null,
   "metadata": {},
   "outputs": [],
   "source": [
    "dollar_df.sort_values('close',ascending=True)\n"
   ]
  },
  {
   "cell_type": "code",
   "execution_count": 57,
   "metadata": {},
   "outputs": [],
   "source": [
    "talib.CCI?"
   ]
  },
  {
   "cell_type": "code",
   "execution_count": null,
   "metadata": {},
   "outputs": [],
   "source": [
    "rsi_value_l_window = pd.Series(engine.strategy.rsi_value_recorder_l_window,index=engine.strategy.rsi_time_recorder_l_window)\n",
    "rsi_value_s_window =pd.Series(engine.strategy.rsi_value_recorder_s_window,index=engine.strategy.rsi_time_recorder_s_window)\n",
    "atr_value = pd.Series(engine.strategy.atr_value_recorder,index=engine.strategy.atr_time_recorder)\n",
    "obv_value = pd.Series(engine.strategy.obv_value_recorder,index=engine.strategy.obv_time_recorder)\n",
    "minus_dm_value = pd.Series(engine.strategy.minus_dm_value_recorder,index=engine.strategy.minus_dm_time_recorder)\n",
    "mfi_value = pd.Series(engine.strategy.mfi_value_recorder,index=engine.strategy.mfi_time_recorder)\n",
    "ad_value = pd.Series(engine.strategy.ad_value_recorder,index=engine.strategy.ad_time_recorder)\n",
    "adosc_value = pd.Series(engine.strategy.adosc_value_recorder,index=engine.strategy.adosc_time_recorder)\n",
    "plus_dm_value =pd.Series(engine.strategy.plus_dm_value_recorder,index=engine.strategy.plus_dm_time_recorder)\n",
    "dx_value = pd.Series(engine.strategy.dx_value_recorder,index=engine.strategy.dx_time_recorder)\n",
    "adx_value = pd.Series(engine.strategy.adx_value_recorder,index=engine.strategy.adx_time_recorder)"
   ]
  }
 ],
 "metadata": {
  "celltoolbar": "Tags",
  "kernelspec": {
   "display_name": "mlfinance",
   "language": "python",
   "name": "mlfinance"
  },
  "language_info": {
   "codemirror_mode": {
    "name": "ipython",
    "version": 3
   },
   "file_extension": ".py",
   "mimetype": "text/x-python",
   "name": "python",
   "nbconvert_exporter": "python",
   "pygments_lexer": "ipython3",
   "version": "3.7.1"
  }
 },
 "nbformat": 4,
 "nbformat_minor": 2
}
