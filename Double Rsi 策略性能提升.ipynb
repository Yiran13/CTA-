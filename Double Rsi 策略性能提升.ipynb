{
 "cells": [
  {
   "cell_type": "markdown",
   "metadata": {},
   "source": [
    "#### 提升方向：\n",
    "- 止盈和止损点位\n",
    "- 将RSI window dynamic\n"
   ]
  },
  {
   "cell_type": "markdown",
   "metadata": {},
   "source": [
    "#### 止盈设置\n",
    "- ATR Rachket\n",
    "- 将止盈从原先的固定0.05变为浮动\n",
    "     - 持仓周期\n",
    "     - ATR波动挂钩 \n",
    "- 观察不同阈值下触及止盈和止损的位置\n",
    "\n",
    "#### 噪音观察\n",
    "- 解释DrawBack的原因\n"
   ]
  },
  {
   "cell_type": "code",
   "execution_count": 1,
   "metadata": {},
   "outputs": [],
   "source": [
    "import sys\n",
    "sys.path.append('D:/vnpy_strategies/DoubleRsi')\n",
    "import numpy as np\n",
    "import pandas as pd\n",
    "from vnpy.app.cta_strategy.backtesting import BacktestingEngine, OptimizationSetting\n",
    "from datetime import datetime\n",
    "from double_rsi_atr import DoubleRsiAtr\n",
    "from rsi_dollor import RsiDollar\n",
    "from double_rsi_signal import DoubleSignalGenerator\n",
    "from trade_by_trade import (calculate_trades_result, generate_trade_df)\n",
    "import matplotlib.pyplot as plt"
   ]
  },
  {
   "cell_type": "code",
   "execution_count": 2,
   "metadata": {},
   "outputs": [],
   "source": [
    "start_time = datetime(2010, 10, 1)\n",
    "end_time = datetime(2019, 4, 30)"
   ]
  },
  {
   "cell_type": "code",
   "execution_count": null,
   "metadata": {},
   "outputs": [],
   "source": [
    "strategy_parameters={'s_window':5,'l_window':15,'atr_window':35,'atr_multiplier':0.25,'exit_return_soft_long':-0.1,\n",
    "                     'obv_window':35,'minus_dm_window':35,'mfi_window':35,'ad_window':35,'adosc_window':35,'plus_dm_window':35,\n",
    "                     'dx_window':35,'adx_window':35,\n",
    "                     'exit_loss_soft_long':-0.2,'rsi_window':11,'exit_return_soft_short':0.05,'exit_loss_soft_short':0.3,\n",
    "                     'long_threshold_l_window': 50, 'long_threshold_s_window':80,'exit_return':0.09,'exit_loss':0.01,'fixed_size':1}\n"
   ]
  },
  {
   "cell_type": "code",
   "execution_count": null,
   "metadata": {},
   "outputs": [],
   "source": [
    "engine = BacktestingEngine()\n",
    "engine.set_parameters(\n",
    "    vt_symbol=\"IF888.CFFEX\",\n",
    "    interval=\"1m\",\n",
    "    start= start_time,\n",
    "    end= end_time,\n",
    "    rate=5/10000,\n",
    "    slippage=0.6,\n",
    "    size=300,\n",
    "    pricetick=0.2,\n",
    "    capital=1_000_000,\n",
    ")\n",
    "engine.add_strategy(DoubleRsiAtr, strategy_parameters)"
   ]
  },
  {
   "cell_type": "code",
   "execution_count": null,
   "metadata": {},
   "outputs": [],
   "source": [
    "engine.load_data()\n",
    "engine.run_backtesting()\n",
    "df = engine.calculate_result()\n",
    "summary_dict = engine.calculate_statistics()"
   ]
  },
  {
   "cell_type": "code",
   "execution_count": null,
   "metadata": {},
   "outputs": [],
   "source": [
    "engine.show_chart()"
   ]
  },
  {
   "cell_type": "code",
   "execution_count": null,
   "metadata": {
    "tags": [
     "起点"
    ]
   },
   "outputs": [],
   "source": [
    "engine = BacktestingEngine()\n",
    "engine.set_parameters(\n",
    "    vt_symbol=\"IF888.CFFEX\",\n",
    "    interval=\"1m\",\n",
    "    start = start_time,\n",
    "    end = end_time,\n",
    "    rate=5/10000,\n",
    "    slippage=0.6,\n",
    "    size=300,\n",
    "    pricetick=0.2,\n",
    "    capital=1_000_000,\n",
    ")\n",
    "engine.add_strategy(DoubleSignalGenerator, strategy_parameters)\n",
    "engine.load_data()\n",
    "engine.run_backtesting()\n",
    "df = engine.calculate_result()\n",
    "summary_dict = engine.calculate_statistics()"
   ]
  },
  {
   "cell_type": "code",
   "execution_count": null,
   "metadata": {},
   "outputs": [],
   "source": [
    "rsi_value_l_window = pd.Series(engine.strategy.rsi_value_recorder_l_window,index=engine.strategy.rsi_time_recorder_l_window)\n",
    "rsi_value_s_window =pd.Series(engine.strategy.rsi_value_recorder_s_window,index=engine.strategy.rsi_time_recorder_s_window)\n",
    "atr_value = pd.Series(engine.strategy.atr_value_recorder,index=engine.strategy.atr_time_recorder)\n",
    "obv_value = pd.Series(engine.strategy.obv_value_recorder,index=engine.strategy.obv_time_recorder)\n",
    "minus_dm_value = pd.Series(engine.strategy.minus_dm_value_recorder,index=engine.strategy.minus_dm_time_recorder)\n",
    "mfi_value = pd.Series(engine.strategy.mfi_value_recorder,index=engine.strategy.mfi_time_recorder)\n",
    "ad_value = pd.Series(engine.strategy.ad_value_recorder,index=engine.strategy.ad_time_recorder)\n",
    "adosc_value = pd.Series(engine.strategy.adosc_value_recorder,index=engine.strategy.adosc_time_recorder)\n",
    "plus_dm_value =pd.Series(engine.strategy.plus_dm_value_recorder,index=engine.strategy.plus_dm_time_recorder)\n",
    "dx_value = pd.Series(engine.strategy.dx_value_recorder,index=engine.strategy.dx_time_recorder)\n",
    "adx_value = pd.Series(engine.strategy.adx_value_recorder,index=engine.strategy.adx_time_recorder)"
   ]
  },
  {
   "cell_type": "code",
   "execution_count": null,
   "metadata": {},
   "outputs": [],
   "source": [
    "indicator_df = pd.concat([rsi_value_s_window,rsi_value_l_window.reindex(rsi_value_s_window.index,method='ffill'),atr_value,obv_value,\n",
    "                          minus_dm_value,mfi_value,ad_value,adosc_value,plus_dm_value,dx_value,adx_value],axis=1)\n",
    "indicator_df.columns = ['rsi_short_window','rsi_long_window','atr','obv','minus_dm','mfi','ad','adosc','plus_dm','dx','adx']\n",
    "indicator_df.dropna(inplace=True)"
   ]
  },
  {
   "cell_type": "markdown",
   "metadata": {},
   "source": [
    "### 最大回撤区间\n",
    "- 2013-2015\n",
    "- 2016-2017\n",
    "\n",
    "### 最小回撤区间\n",
    "- 2011 -2013"
   ]
  },
  {
   "cell_type": "code",
   "execution_count": null,
   "metadata": {
    "tags": [
     "ATR在不同DrawBack_Period下"
    ]
   },
   "outputs": [],
   "source": [
    "fig = plt.figure(figsize=(25,10))\n",
    "\n",
    "plt.plot(indicator_df['atr']['2011-01-01':'2013-12-31'],'g-',label='slightly_draw_back_period')\n",
    "plt.plot(indicator_df['atr']['2014-01-01':'2015-01-01'],'r-',label='heavily_draw_back_period')\n",
    "plt.plot(indicator_df['atr']['2015-01-01':'2015-12-31'],'g-')\n",
    "plt.plot(indicator_df['atr']['2016-01-01':'2016-12-31'],'r-')\n",
    "plt.plot(indicator_df['atr']['2017-01-01':'2017-12-31'],'g-')\n",
    "plt.plot(indicator_df['atr']['2018-01-01':'2018-12-31'],'r-')\n",
    "plt.plot(indicator_df['atr']['2019-01-01':'2019-12-31'],'g-')\n",
    "plt.legend()\n",
    "# # ax1.plot(long_accuracy_with_fee,'r-',label='long_side_accuracy')\n",
    "# ax2.plot(two_pnl_df['close'],'b--',label='close')\n",
    "# plt.legend()\n"
   ]
  },
  {
   "cell_type": "markdown",
   "metadata": {},
   "source": [
    "### Indicator 和 策略 DrawBack\n",
    "- 将DrawBack分成两个阶段：*Slightly DrawBack，Heavily DrawBack*\n",
    "    - *RSI* 指标没办法区别这两个*DrawBack* period\n",
    "    - *ATR* 指标似乎对这两个*DrawBack* period 有一定程度的区分\n",
    "    "
   ]
  },
  {
   "cell_type": "code",
   "execution_count": null,
   "metadata": {
    "tags": [
     "short_RSI在不同DrawBack_Period下"
    ]
   },
   "outputs": [],
   "source": [
    "fig = plt.figure(figsize=(25,10))\n",
    "\n",
    "plt.plot(indicator_df['rsi_short_window']['2011-01-01':'2013-12-31'],'g-',label='slightly_draw_back_period')\n",
    "plt.plot(indicator_df['rsi_short_window']['2014-01-01':'2015-01-01'],'r-',label='heavily_draw_back_period')\n",
    "plt.plot(indicator_df['rsi_short_window']['2015-01-01':'2015-12-31'],'g-')\n",
    "plt.plot(indicator_df['rsi_short_window']['2016-01-01':'2016-12-31'],'r-')\n",
    "plt.plot(indicator_df['rsi_short_window']['2017-01-01':'2017-12-31'],'g-')\n",
    "plt.plot(indicator_df['rsi_short_window']['2018-01-01':'2018-12-31'],'r-')\n",
    "plt.plot(indicator_df['rsi_short_window']['2019-01-01':'2019-12-31'],'g-')\n",
    "plt.legend()"
   ]
  },
  {
   "cell_type": "code",
   "execution_count": null,
   "metadata": {
    "tags": [
     "Long_RSI在不同DrawBack_Period下"
    ]
   },
   "outputs": [],
   "source": [
    "fig = plt.figure(figsize=(25,10))\n",
    "\n",
    "plt.plot(indicator_df['rsi_long_window']['2011-01-01':'2013-12-31'],'g-',label='slightly_draw_back_period')\n",
    "plt.plot(indicator_df['rsi_long_window']['2014-01-01':'2015-01-01'],'r-',label='heavily_draw_back_period')\n",
    "plt.plot(indicator_df['rsi_long_window']['2015-01-01':'2015-12-31'],'g-')\n",
    "plt.plot(indicator_df['rsi_long_window']['2016-01-01':'2016-12-31'],'r-')\n",
    "plt.plot(indicator_df['rsi_long_window']['2017-01-01':'2017-12-31'],'g-')\n",
    "plt.plot(indicator_df['rsi_long_window']['2018-01-01':'2018-12-31'],'r-')\n",
    "plt.plot(indicator_df['rsi_long_window']['2019-01-01':'2019-12-31'],'g-')\n",
    "plt.legend()"
   ]
  },
  {
   "cell_type": "code",
   "execution_count": null,
   "metadata": {
    "tags": [
     "OBV在不同DrawBack_Period下"
    ]
   },
   "outputs": [],
   "source": [
    "fig = plt.figure(figsize=(25,10))\n",
    "\n",
    "plt.plot(indicator_df['obv']['2011-01-01':'2013-12-31'],'g-',label='slightly_draw_back_period')\n",
    "plt.plot(indicator_df['obv']['2014-01-01':'2015-01-01'],'r-',label='heavily_draw_back_period')\n",
    "plt.plot(indicator_df['obv']['2015-01-01':'2015-12-31'],'g-')\n",
    "plt.plot(indicator_df['obv']['2016-01-01':'2016-12-31'],'r-')\n",
    "plt.plot(indicator_df['obv']['2017-01-01':'2017-12-31'],'g-')\n",
    "plt.plot(indicator_df['obv']['2018-01-01':'2018-12-31'],'r-')\n",
    "plt.plot(indicator_df['obv']['2019-01-01':'2019-12-31'],'g-')\n",
    "plt.legend()"
   ]
  },
  {
   "cell_type": "code",
   "execution_count": null,
   "metadata": {
    "tags": [
     "Minus_dm在不同DrawBack_Period下"
    ]
   },
   "outputs": [],
   "source": [
    "fig = plt.figure(figsize=(25,10))\n",
    "\n",
    "plt.plot(indicator_df['minus_dm']['2011-01-01':'2013-12-31'],'g-',label='slightly_draw_back_period')\n",
    "plt.plot(indicator_df['minus_dm']['2014-01-01':'2015-01-01'],'r-',label='heavily_draw_back_period')\n",
    "plt.plot(indicator_df['minus_dm']['2015-01-01':'2015-12-31'],'g-')\n",
    "plt.plot(indicator_df['minus_dm']['2016-01-01':'2016-12-31'],'r-')\n",
    "plt.plot(indicator_df['minus_dm']['2017-01-01':'2017-12-31'],'g-')\n",
    "plt.plot(indicator_df['minus_dm']['2018-01-01':'2018-12-31'],'r-')\n",
    "plt.plot(indicator_df['minus_dm']['2019-01-01':'2019-12-31'],'g-')\n",
    "plt.legend()"
   ]
  },
  {
   "cell_type": "code",
   "execution_count": null,
   "metadata": {
    "tags": [
     "MFI",
     "没办法区分"
    ]
   },
   "outputs": [],
   "source": [
    "\n",
    "fig = plt.figure(figsize=(25,10))\n",
    "\n",
    "plt.plot(indicator_df['mfi']['2011-01-01':'2013-12-31'],'g-',label='slightly_draw_back_period')\n",
    "plt.plot(indicator_df['mfi']['2014-01-01':'2015-01-01'],'r-',label='heavily_draw_back_period')\n",
    "plt.plot(indicator_df['mfi']['2015-01-01':'2015-12-31'],'g-')\n",
    "plt.plot(indicator_df['mfi']['2016-01-01':'2016-12-31'],'r-')\n",
    "plt.plot(indicator_df['mfi']['2017-01-01':'2017-12-31'],'g-')\n",
    "plt.plot(indicator_df['mfi']['2018-01-01':'2018-12-31'],'r-')\n",
    "plt.plot(indicator_df['mfi']['2019-01-01':'2019-12-31'],'g-')\n",
    "plt.legend()"
   ]
  },
  {
   "cell_type": "code",
   "execution_count": null,
   "metadata": {},
   "outputs": [],
   "source": [
    "\n",
    "fig = plt.figure(figsize=(25,10))\n",
    "\n",
    "plt.plot(indicator_df['ad']['2011-01-01':'2013-12-31'],'g-',label='slightly_draw_back_period')\n",
    "plt.plot(indicator_df['ad']['2014-01-01':'2015-01-01'],'r-',label='heavily_draw_back_period')\n",
    "plt.plot(indicator_df['ad']['2015-01-01':'2015-12-31'],'g-')\n",
    "plt.plot(indicator_df['ad']['2016-01-01':'2016-12-31'],'r-')\n",
    "plt.plot(indicator_df['ad']['2017-01-01':'2017-12-31'],'g-')\n",
    "plt.plot(indicator_df['ad']['2018-01-01':'2018-12-31'],'r-')\n",
    "plt.plot(indicator_df['ad']['2019-01-01':'2019-12-31'],'g-')\n",
    "plt.legend()"
   ]
  },
  {
   "cell_type": "code",
   "execution_count": null,
   "metadata": {
    "tags": [
     "ADOSC"
    ]
   },
   "outputs": [],
   "source": [
    "fig = plt.figure(figsize=(25,10))\n",
    "\n",
    "plt.plot(indicator_df['adosc']['2011-01-01':'2013-12-31'],'g-',label='slightly_draw_back_period')\n",
    "plt.plot(indicator_df['adosc']['2014-01-01':'2015-01-01'],'r-',label='heavily_draw_back_period')\n",
    "plt.plot(indicator_df['adosc']['2015-01-01':'2015-12-31'],'g-')\n",
    "plt.plot(indicator_df['adosc']['2016-01-01':'2016-12-31'],'r-')\n",
    "plt.plot(indicator_df['adosc']['2017-01-01':'2017-12-31'],'g-')\n",
    "plt.plot(indicator_df['adosc']['2018-01-01':'2018-12-31'],'r-')\n",
    "plt.plot(indicator_df['adosc']['2019-01-01':'2019-12-31'],'g-')\n",
    "plt.legend()"
   ]
  },
  {
   "cell_type": "code",
   "execution_count": null,
   "metadata": {
    "tags": [
     "Plus_dm"
    ]
   },
   "outputs": [],
   "source": [
    "fig = plt.figure(figsize=(25,10))\n",
    "\n",
    "plt.plot(indicator_df['plus_dm']['2011-01-01':'2013-12-31'],'g-',label='slightly_draw_back_period')\n",
    "plt.plot(indicator_df['plus_dm']['2014-01-01':'2015-01-01'],'r-',label='heavily_draw_back_period')\n",
    "plt.plot(indicator_df['plus_dm']['2015-01-01':'2015-12-31'],'g-')\n",
    "plt.plot(indicator_df['plus_dm']['2016-01-01':'2016-12-31'],'r-')\n",
    "plt.plot(indicator_df['plus_dm']['2017-01-01':'2017-12-31'],'g-')\n",
    "plt.plot(indicator_df['plus_dm']['2018-01-01':'2018-12-31'],'r-')\n",
    "plt.plot(indicator_df['plus_dm']['2019-01-01':'2019-12-31'],'g-')\n",
    "plt.legend()"
   ]
  },
  {
   "cell_type": "code",
   "execution_count": null,
   "metadata": {},
   "outputs": [],
   "source": [
    "fig = plt.figure(figsize=(25,10))\n",
    "\n",
    "plt.plot(indicator_df['dx']['2011-01-01':'2013-12-31'],'g-',label='slightly_draw_back_period')\n",
    "plt.plot(indicator_df['dx']['2014-01-01':'2015-01-01'],'r-',label='heavily_draw_back_period')\n",
    "plt.plot(indicator_df['dx']['2015-01-01':'2015-12-31'],'g-')\n",
    "plt.plot(indicator_df['dx']['2016-01-01':'2016-12-31'],'r-')\n",
    "plt.plot(indicator_df['dx']['2017-01-01':'2017-12-31'],'g-')\n",
    "plt.plot(indicator_df['dx']['2018-01-01':'2018-12-31'],'r-')\n",
    "plt.plot(indicator_df['dx']['2019-01-01':'2019-12-31'],'g-')\n",
    "plt.legend()\n",
    "\n"
   ]
  },
  {
   "cell_type": "code",
   "execution_count": null,
   "metadata": {},
   "outputs": [],
   "source": [
    "fig = plt.figure(figsize=(25,10))\n",
    "\n",
    "plt.plot(indicator_df['adx']['2011-01-01':'2013-12-31'],'g-',label='slightly_draw_back_period')\n",
    "plt.plot(indicator_df['adx']['2014-01-01':'2015-01-01'],'r-',label='heavily_draw_back_period')\n",
    "plt.plot(indicator_df['adx']['2015-01-01':'2015-12-31'],'g-')\n",
    "plt.plot(indicator_df['adx']['2016-01-01':'2016-12-31'],'r-')\n",
    "plt.plot(indicator_df['adx']['2017-01-01':'2017-12-31'],'g-')\n",
    "plt.plot(indicator_df['adx']['2018-01-01':'2018-12-31'],'r-')\n",
    "plt.plot(indicator_df['adx']['2019-01-01':'2019-12-31'],'g-')\n",
    "plt.legend()"
   ]
  },
  {
   "cell_type": "code",
   "execution_count": null,
   "metadata": {},
   "outputs": [],
   "source": [
    "np.sum([1,2,3])"
   ]
  },
  {
   "cell_type": "code",
   "execution_count": 3,
   "metadata": {},
   "outputs": [],
   "source": [
    "start_time = datetime(2010, 10, 1)\n",
    "end_time = datetime(2013, 4, 30)"
   ]
  },
  {
   "cell_type": "code",
   "execution_count": 4,
   "metadata": {},
   "outputs": [
    {
     "name": "stdout",
     "output_type": "stream",
     "text": [
      "2020-04-17 22:47:04.469939\t开始加载历史数据\n",
      "2020-04-17 22:47:04.676245\t加载进度： [3%]\n",
      "2020-04-17 22:47:04.926537\t加载进度： [6%]\n",
      "2020-04-17 22:47:05.219525\t加载进度： [10%]\n",
      "2020-04-17 22:47:05.466134\t加载进度：# [13%]\n",
      "2020-04-17 22:47:05.656277\t加载进度：# [16%]\n",
      "2020-04-17 22:47:05.966408\t加载进度：# [19%]\n",
      "2020-04-17 22:47:06.202589\t加载进度：## [22%]\n",
      "2020-04-17 22:47:06.483523\t加载进度：## [25%]\n",
      "2020-04-17 22:47:06.736802\t加载进度：## [29%]\n",
      "2020-04-17 22:47:07.079055\t加载进度：### [32%]\n",
      "2020-04-17 22:47:07.370204\t加载进度：### [35%]\n",
      "2020-04-17 22:47:07.603112\t加载进度：### [38%]\n",
      "2020-04-17 22:47:07.891743\t加载进度：#### [41%]\n",
      "2020-04-17 22:47:08.146497\t加载进度：#### [45%]\n",
      "2020-04-17 22:47:08.403601\t加载进度：#### [48%]\n",
      "2020-04-17 22:47:08.635602\t加载进度：##### [51%]\n",
      "2020-04-17 22:47:08.931835\t加载进度：##### [54%]\n",
      "2020-04-17 22:47:09.214902\t加载进度：##### [57%]\n",
      "2020-04-17 22:47:09.429035\t加载进度：###### [61%]\n",
      "2020-04-17 22:47:09.762883\t加载进度：###### [64%]\n",
      "2020-04-17 22:47:10.023360\t加载进度：###### [67%]\n",
      "2020-04-17 22:47:10.271635\t加载进度：####### [70%]\n",
      "2020-04-17 22:47:10.521534\t加载进度：####### [73%]\n",
      "2020-04-17 22:47:10.906247\t加载进度：####### [76%]\n",
      "2020-04-17 22:47:11.102571\t加载进度：####### [80%]\n",
      "2020-04-17 22:47:11.341166\t加载进度：######## [83%]\n",
      "2020-04-17 22:47:11.606697\t加载进度：######## [86%]\n",
      "2020-04-17 22:47:11.971541\t加载进度：######## [89%]\n",
      "2020-04-17 22:47:12.149905\t加载进度：######### [92%]\n",
      "2020-04-17 22:47:12.419160\t加载进度：######### [96%]\n",
      "2020-04-17 22:47:12.665781\t加载进度：######### [99%]\n",
      "2020-04-17 22:47:12.752584\t加载进度：########## [100%]\n",
      "2020-04-17 22:47:12.752584\t历史数据加载完成，数据量：167940\n",
      "2020-04-17 22:47:12.835363\t策略初始化完成\n",
      "2020-04-17 22:47:12.835363\t开始回放历史数据\n",
      "2020-04-17 22:50:28.224348\t历史数据回放结束\n",
      "2020-04-17 22:50:28.225344\t开始计算逐日盯市盈亏\n",
      "2020-04-17 22:50:28.231327\t逐日盯市盈亏计算完成\n",
      "2020-04-17 22:50:28.231327\t开始计算策略统计指标\n",
      "2020-04-17 22:50:28.332687\t------------------------------\n",
      "2020-04-17 22:50:28.332687\t首个交易日：\t2010-10-22\n",
      "2020-04-17 22:50:28.332687\t最后交易日：\t2013-04-26\n",
      "2020-04-17 22:50:28.332687\t总交易日：\t612\n",
      "2020-04-17 22:50:28.332687\t盈利交易日：\t307\n",
      "2020-04-17 22:50:28.332687\t亏损交易日：\t302\n",
      "2020-04-17 22:50:28.332687\t起始资金：\t1,000,000.00\n",
      "2020-04-17 22:50:28.332687\t结束资金：\t931,893.79\n",
      "2020-04-17 22:50:28.332687\t总收益率：\t-6.81%\n",
      "2020-04-17 22:50:28.332687\t年化收益：\t-2.67%\n",
      "2020-04-17 22:50:28.332687\t最大回撤: \t-290,609.31\n",
      "2020-04-17 22:50:28.332687\t百分比最大回撤: -24.52%\n",
      "2020-04-17 22:50:28.332687\t最长回撤天数: \t463\n",
      "2020-04-17 22:50:28.332687\t总盈亏：\t-68,106.21\n",
      "2020-04-17 22:50:28.332687\t总手续费：\t132,006.21\n",
      "2020-04-17 22:50:28.333649\t总滑点：\t99,180.00\n",
      "2020-04-17 22:50:28.333649\t总成交金额：\t264,012,420.00\n",
      "2020-04-17 22:50:28.333649\t总成交笔数：\t551\n",
      "2020-04-17 22:50:28.333649\t日均盈亏：\t-111.28\n",
      "2020-04-17 22:50:28.333649\t日均手续费：\t215.70\n",
      "2020-04-17 22:50:28.333649\t日均滑点：\t162.06\n",
      "2020-04-17 22:50:28.333649\t日均成交金额：\t431,392.84\n",
      "2020-04-17 22:50:28.333649\t日均成交笔数：\t0.9003267973856209\n",
      "2020-04-17 22:50:28.333649\t日均收益率：\t-0.01%\n",
      "2020-04-17 22:50:28.333649\t收益标准差：\t1.02%\n",
      "2020-04-17 22:50:28.333649\tSharpe Ratio：\t-0.17\n",
      "2020-04-17 22:50:28.333649\t收益回撤比：\t-0.28\n",
      "2020-04-17 22:50:28.333649\t策略统计指标计算完成\n"
     ]
    }
   ],
   "source": [
    "engine = BacktestingEngine()\n",
    "engine.set_parameters(\n",
    "    vt_symbol=\"IF888.CFFEX\",\n",
    "    interval=\"1m\",\n",
    "    start = start_time,\n",
    "    end = end_time,\n",
    "    rate=5/10000,\n",
    "    slippage=0.6,\n",
    "    size=300,\n",
    "    pricetick=0.2,\n",
    "    capital=1_000_000,\n",
    ")\n",
    "engine.add_strategy(RsiDollar,{})\n",
    "engine.load_data()\n",
    "engine.run_backtesting()\n",
    "df = engine.calculate_result()\n",
    "summary_dict = engine.calculate_statistics()"
   ]
  },
  {
   "cell_type": "code",
   "execution_count": null,
   "metadata": {},
   "outputs": [],
   "source": [
    "engine.strategy."
   ]
  },
  {
   "cell_type": "code",
   "execution_count": null,
   "metadata": {},
   "outputs": [],
   "source": [
    "import talib\n"
   ]
  },
  {
   "cell_type": "code",
   "execution_count": null,
   "metadata": {},
   "outputs": [],
   "source": [
    "talib.BBANDS"
   ]
  },
  {
   "cell_type": "code",
   "execution_count": null,
   "metadata": {},
   "outputs": [],
   "source": [
    "rsi_value_l_window = pd.Series(engine.strategy.rsi_value_recorder_l_window,index=engine.strategy.rsi_time_recorder_l_window)\n",
    "rsi_value_s_window =pd.Series(engine.strategy.rsi_value_recorder_s_window,index=engine.strategy.rsi_time_recorder_s_window)\n",
    "atr_value = pd.Series(engine.strategy.atr_value_recorder,index=engine.strategy.atr_time_recorder)\n",
    "obv_value = pd.Series(engine.strategy.obv_value_recorder,index=engine.strategy.obv_time_recorder)\n",
    "minus_dm_value = pd.Series(engine.strategy.minus_dm_value_recorder,index=engine.strategy.minus_dm_time_recorder)\n",
    "mfi_value = pd.Series(engine.strategy.mfi_value_recorder,index=engine.strategy.mfi_time_recorder)\n",
    "ad_value = pd.Series(engine.strategy.ad_value_recorder,index=engine.strategy.ad_time_recorder)\n",
    "adosc_value = pd.Series(engine.strategy.adosc_value_recorder,index=engine.strategy.adosc_time_recorder)\n",
    "plus_dm_value =pd.Series(engine.strategy.plus_dm_value_recorder,index=engine.strategy.plus_dm_time_recorder)\n",
    "dx_value = pd.Series(engine.strategy.dx_value_recorder,index=engine.strategy.dx_time_recorder)\n",
    "adx_value = pd.Series(engine.strategy.adx_value_recorder,index=engine.strategy.adx_time_recorder)"
   ]
  }
 ],
 "metadata": {
  "celltoolbar": "Tags",
  "kernelspec": {
   "display_name": "mlfinance",
   "language": "python",
   "name": "mlfinance"
  },
  "language_info": {
   "codemirror_mode": {
    "name": "ipython",
    "version": 3
   },
   "file_extension": ".py",
   "mimetype": "text/x-python",
   "name": "python",
   "nbconvert_exporter": "python",
   "pygments_lexer": "ipython3",
   "version": "3.7.1"
  }
 },
 "nbformat": 4,
 "nbformat_minor": 2
}
