{
 "cells": [
  {
   "cell_type": "markdown",
   "metadata": {
    "tags": [
     "策略说明"
    ]
   },
   "source": [
    "### TrendModelStrategy\n",
    "\n",
    "#### 策略说明\n",
    "* 策略网址： https://www.quantinfo.com/Source/View/3543.html\n",
    "* TrendModelStrategy策略认为 *MACD* 指标中的 *diff* 和 *0* cross over 之后的一段时间 *T* 内可能是入场的最佳时机。\n",
    "\n",
    "\n",
    "##### 入场时机\n",
    "\n",
    "在 cross over 的 *T* 时刻内：\n",
    "* 当 cross over 的方向是*up* 且当前*bar*的*close* 突破 $S_{+}$ 时，买入做多。\n",
    "* 当 cross over 的方向是*down* 且当前*bar*的*close* 跌破 $S_{-}$ 时，卖出做多。\n",
    "\n",
    "\n",
    "##### 出场时机\n",
    "* 当持仓的方向是*long*，且当前*bar*的*close* 跌破 $S_{+stop}$ 时，卖出平仓。\n",
    "* 当持仓的方向是*short*，且当前*bar*的*close* 突破 $S_{-stop}$ 时，买入平仓。\n",
    "\n"
   ]
  },
  {
   "cell_type": "markdown",
   "metadata": {
    "tags": [
     "策略详解",
     "重要参数"
    ]
   },
   "source": [
    "## 策略参数\n",
    "\n",
    "##### 头寸单位\n",
    "* fixed_size(每次开仓的单位）\n",
    "\n",
    "##### 开仓平仓价格\n",
    "* true_range_window，true_range_influence_multiplier （设置$S_{+}$， $S_{-}$ 价格）\n",
    "* trail_bar_window(设置$S_{+stop}$，$S_{-stop}$ 价格)\n",
    "\n",
    "##### cross over \n",
    "* fast_ma_macd,slow_ma_macd,signal_macd(计算 *cross over* ）\n",
    "\n",
    "\n",
    "\n",
    "## 策略变量\n",
    "\n",
    "##### cross over \n",
    "\n",
    "* mdif (*macd*指标的diff值）\n",
    "* cross_above_0，cross_under_0（ 缓存 *cross over* 方向）\n",
    "* cross_over_record_array （记录 *cross over* 信息）\n",
    "    * 一共4个row\n",
    "        * row1：记录截止到当前*bar*，一共回放*bar*的个数(后续用来计算当前*bar*和上次*corss over*的时间间隔）\n",
    "        * row2：记录*cross over* 时 *bar* 的high_price\n",
    "        * row3: 记录*cross over* 时 *bar* 的low_price\n",
    "        * row4: 记录*cross over* 时 *cross over* 的side\n",
    "* last_cross_over_side ,last_cross_over_interval(上次 *cross over* 信息)\n",
    "* bar_num,bar_num_after_cross_over (计算当前bar和上次*cross over* 的时间距离)\n",
    "\n",
    "###### 开仓平仓价格\n",
    "\n",
    "* cross_over_slice_window_highest，cross_over_slice_window_lowest （设置$S_{+}$， $S_{-}$ 价格）\n",
    "* long_open_stop_order_price ，short_open_stop_order_price（$S_{+}$， $S_{-}$ 价格）\n",
    "* long_close_stop_order_price，short_close_stop_order_price（$S_{+stop}$，$S_{-stop}$ 价格）\n"
   ]
  },
  {
   "cell_type": "markdown",
   "metadata": {
    "tags": [
     "策略复现",
     "无手续",
     "无滑点",
     "理想情况"
    ]
   },
   "source": [
    "## 策略复现(虚拟情况）\n",
    "* 根据策略网址 https://www.quantinfo.com/Source/View/3543.html 回测参数设置：\n",
    "    * 回测时间： 2014-10-01- 2018-04-30\n",
    "    * 回测频率 ： *1m* \n",
    "    * 滑点： 0\n",
    "    * 交易费用：0"
   ]
  },
  {
   "cell_type": "code",
   "execution_count": 1,
   "metadata": {
    "tags": [
     "导入package",
     "策略回测package",
     "策略性能评估package"
    ]
   },
   "outputs": [],
   "source": [
    "#%%\n",
    "import numpy as np\n",
    "import pandas as pd\n",
    "from vnpy.app.cta_strategy.backtesting import BacktestingEngine, OptimizationSetting\n",
    "from datetime import datetime\n",
    "from trend_model import TrendModelStrategy\n",
    "from trade_by_trade import (calculate_trades_result, generate_trade_df)"
   ]
  },
  {
   "cell_type": "code",
   "execution_count": 2,
   "metadata": {
    "tags": [
     "策略参数配置",
     "无手续费"
    ]
   },
   "outputs": [],
   "source": [
    "#%%\n",
    "engine = BacktestingEngine()\n",
    "engine.set_parameters(\n",
    "    vt_symbol=\"IF88.CFFEX\",\n",
    "    interval=\"1m\",\n",
    "    start=datetime(2014, 10, 1),\n",
    "    end=datetime(2018, 4, 30),\n",
    "    rate=0,\n",
    "    slippage=0,\n",
    "    size=300,\n",
    "    pricetick=0.2,\n",
    "    capital=1_000_000,\n",
    ")\n",
    "engine.add_strategy(TrendModelStrategy, {})"
   ]
  },
  {
   "cell_type": "code",
   "execution_count": 3,
   "metadata": {
    "tags": [
     "进行回测"
    ]
   },
   "outputs": [
    {
     "name": "stdout",
     "output_type": "stream",
     "text": [
      "2020-04-15 05:48:58.859370\t开始加载历史数据\n",
      "2020-04-15 05:48:59.681788\t加载进度： [2%]\n",
      "2020-04-15 05:49:00.379692\t加载进度： [5%]\n",
      "2020-04-15 05:49:00.872657\t加载进度： [7%]\n",
      "2020-04-15 05:49:01.197119\t加载进度： [9%]\n",
      "2020-04-15 05:49:01.409692\t加载进度：# [11%]\n",
      "2020-04-15 05:49:01.785678\t加载进度：# [14%]\n",
      "2020-04-15 05:49:02.082555\t加载进度：# [16%]\n",
      "2020-04-15 05:49:02.412638\t加载进度：# [18%]\n",
      "2020-04-15 05:49:02.707578\t加载进度：## [21%]\n",
      "2020-04-15 05:49:03.068666\t加载进度：## [23%]\n",
      "2020-04-15 05:49:03.376411\t加载进度：## [25%]\n",
      "2020-04-15 05:49:03.679702\t加载进度：## [28%]\n",
      "2020-04-15 05:49:03.962804\t加载进度：## [30%]\n",
      "2020-04-15 05:49:04.303065\t加载进度：### [32%]\n",
      "2020-04-15 05:49:04.589724\t加载进度：### [34%]\n",
      "2020-04-15 05:49:04.855535\t加载进度：### [37%]\n",
      "2020-04-15 05:49:05.136514\t加载进度：### [39%]\n",
      "2020-04-15 05:49:05.398637\t加载进度：#### [41%]\n",
      "2020-04-15 05:49:05.646827\t加载进度：#### [44%]\n",
      "2020-04-15 05:49:05.896922\t加载进度：#### [46%]\n",
      "2020-04-15 05:49:06.232330\t加载进度：#### [48%]\n",
      "2020-04-15 05:49:06.511551\t加载进度：##### [50%]\n",
      "2020-04-15 05:49:06.796829\t加载进度：##### [53%]\n",
      "2020-04-15 05:49:07.066036\t加载进度：##### [55%]\n",
      "2020-04-15 05:49:07.381562\t加载进度：##### [57%]\n",
      "2020-04-15 05:49:07.680244\t加载进度：##### [60%]\n",
      "2020-04-15 05:49:07.938847\t加载进度：###### [62%]\n",
      "2020-04-15 05:49:08.476975\t加载进度：###### [64%]\n",
      "2020-04-15 05:49:08.715478\t加载进度：###### [67%]\n",
      "2020-04-15 05:49:09.120850\t加载进度：###### [69%]\n",
      "2020-04-15 05:49:09.338676\t加载进度：####### [71%]\n",
      "2020-04-15 05:49:09.607730\t加载进度：####### [73%]\n",
      "2020-04-15 05:49:09.855253\t加载进度：####### [76%]\n",
      "2020-04-15 05:49:10.089640\t加载进度：####### [78%]\n",
      "2020-04-15 05:49:10.475040\t加载进度：######## [80%]\n",
      "2020-04-15 05:49:10.848340\t加载进度：######## [83%]\n",
      "2020-04-15 05:49:11.306751\t加载进度：######## [85%]\n",
      "2020-04-15 05:49:11.572596\t加载进度：######## [87%]\n",
      "2020-04-15 05:49:11.804896\t加载进度：######## [90%]\n",
      "2020-04-15 05:49:12.070619\t加载进度：######### [92%]\n",
      "2020-04-15 05:49:12.539467\t加载进度：######### [94%]\n",
      "2020-04-15 05:49:12.757134\t加载进度：######### [96%]\n",
      "2020-04-15 05:49:12.971780\t加载进度：######### [99%]\n",
      "2020-04-15 05:49:13.100433\t加载进度：########## [100%]\n",
      "2020-04-15 05:49:13.100433\t历史数据加载完成，数据量：217950\n",
      "2020-04-15 05:49:13.206076\t策略初始化完成\n",
      "2020-04-15 05:49:13.207069\t开始回放历史数据\n",
      "2020-04-15 05:49:27.515200\t历史数据回放结束\n",
      "2020-04-15 05:49:27.515200\t开始计算逐日盯市盈亏\n",
      "2020-04-15 05:49:27.701935\t逐日盯市盈亏计算完成\n",
      "2020-04-15 05:49:27.701935\t开始计算策略统计指标\n",
      "2020-04-15 05:49:27.721004\t------------------------------\n",
      "2020-04-15 05:49:27.721004\t首个交易日：\t2014-10-22\n",
      "2020-04-15 05:49:27.721004\t最后交易日：\t2018-04-27\n",
      "2020-04-15 05:49:27.721004\t总交易日：\t860\n",
      "2020-04-15 05:49:27.721004\t盈利交易日：\t472\n",
      "2020-04-15 05:49:27.721004\t亏损交易日：\t387\n",
      "2020-04-15 05:49:27.721004\t起始资金：\t1,000,000.00\n",
      "2020-04-15 05:49:27.721004\t结束资金：\t3,821,560.00\n",
      "2020-04-15 05:49:27.721004\t总收益率：\t282.16%\n",
      "2020-04-15 05:49:27.721004\t年化收益：\t78.74%\n",
      "2020-04-15 05:49:27.721004\t最大回撤: \t-169,620.00\n",
      "2020-04-15 05:49:27.721004\t百分比最大回撤: -7.44%\n",
      "2020-04-15 05:49:27.721004\t最长回撤天数: \t10\n",
      "2020-04-15 05:49:27.721004\t总盈亏：\t2,821,560.00\n",
      "2020-04-15 05:49:27.721004\t总手续费：\t0.00\n",
      "2020-04-15 05:49:27.721004\t总滑点：\t0.00\n",
      "2020-04-15 05:49:27.721004\t总成交金额：\t41,405,712,360.00\n",
      "2020-04-15 05:49:27.721004\t总成交笔数：\t38525\n",
      "2020-04-15 05:49:27.721004\t日均盈亏：\t3,280.88\n",
      "2020-04-15 05:49:27.721004\t日均手续费：\t0.00\n",
      "2020-04-15 05:49:27.721004\t日均滑点：\t0.00\n",
      "2020-04-15 05:49:27.721004\t日均成交金额：\t48,146,177.16\n",
      "2020-04-15 05:49:27.721004\t日均成交笔数：\t44.79651162790697\n",
      "2020-04-15 05:49:27.721004\t日均收益率：\t0.16%\n",
      "2020-04-15 05:49:27.721004\t收益标准差：\t0.74%\n",
      "2020-04-15 05:49:27.721004\tSharpe Ratio：\t3.28\n",
      "2020-04-15 05:49:27.721004\t收益回撤比：\t37.93\n",
      "2020-04-15 05:49:27.721004\t策略统计指标计算完成\n"
     ]
    },
    {
     "data": {
      "text/plain": [
       "{'start_date': datetime.date(2014, 10, 22),\n",
       " 'end_date': datetime.date(2018, 4, 27),\n",
       " 'total_days': 860,\n",
       " 'profit_days': 472,\n",
       " 'loss_days': 387,\n",
       " 'capital': 1000000,\n",
       " 'end_balance': 3821559.999999928,\n",
       " 'max_drawdown': -169620.0,\n",
       " 'max_ddpercent': -7.4395389433241075,\n",
       " 'max_drawdown_duration': 10,\n",
       " 'total_net_pnl': 2821559.9999999274,\n",
       " 'daily_net_pnl': 3280.8837209301482,\n",
       " 'total_commission': 0.0,\n",
       " 'daily_commission': 0.0,\n",
       " 'total_slippage': 0,\n",
       " 'daily_slippage': 0.0,\n",
       " 'total_turnover': 41405712360.0,\n",
       " 'daily_turnover': 48146177.1627907,\n",
       " 'total_trade_count': 38525,\n",
       " 'daily_trade_count': 44.79651162790697,\n",
       " 'total_return': 282.1559999999928,\n",
       " 'annual_return': 78.74120930232357,\n",
       " 'daily_return': 0.15574412899447396,\n",
       " 'return_std': 0.7352759699666136,\n",
       " 'sharpe_ratio': 3.2814586223595277,\n",
       " 'return_drawdown_ratio': 37.92654385567621}"
      ]
     },
     "execution_count": 3,
     "metadata": {},
     "output_type": "execute_result"
    }
   ],
   "source": [
    "engine.load_data()\n",
    "engine.run_backtesting()\n",
    "df = engine.calculate_result()\n",
    "engine.calculate_statistics()"
   ]
  },
  {
   "cell_type": "code",
   "execution_count": 4,
   "metadata": {},
   "outputs": [
    {
     "data": {
      "image/png": "[encoded data removed]",
      "text/plain": [
       "<Figure size 720x1152 with 4 Axes>"
      ]
     },
     "metadata": {
      "needs_background": "light"
     },
     "output_type": "display_data"
    }
   ],
   "source": [
    "engine.show_chart()"
   ]
  },
  {
   "cell_type": "code",
   "execution_count": 5,
   "metadata": {},
   "outputs": [
    {
     "name": "stdout",
     "output_type": "stream",
     "text": [
      "2020-04-15 05:49:47.362197\t开始加载历史数据\n",
      "2020-04-15 05:49:47.362197\t加载进度： [2%]\n",
      "2020-04-15 05:49:47.362197\t加载进度： [5%]\n",
      "2020-04-15 05:49:47.362197\t加载进度： [7%]\n",
      "2020-04-15 05:49:47.362197\t加载进度： [9%]\n",
      "2020-04-15 05:49:47.362197\t加载进度：# [11%]\n",
      "2020-04-15 05:49:47.362197\t加载进度：# [14%]\n",
      "2020-04-15 05:49:47.367947\t加载进度：# [16%]\n",
      "2020-04-15 05:49:47.367947\t加载进度：# [18%]\n",
      "2020-04-15 05:49:47.367947\t加载进度：## [21%]\n",
      "2020-04-15 05:49:47.368943\t加载进度：## [23%]\n",
      "2020-04-15 05:49:47.368943\t加载进度：## [25%]\n",
      "2020-04-15 05:49:47.368943\t加载进度：## [28%]\n",
      "2020-04-15 05:49:47.368943\t加载进度：## [30%]\n",
      "2020-04-15 05:49:47.368943\t加载进度：### [32%]\n",
      "2020-04-15 05:49:47.368943\t加载进度：### [34%]\n",
      "2020-04-15 05:49:47.368943\t加载进度：### [37%]\n",
      "2020-04-15 05:49:47.369975\t加载进度：### [39%]\n",
      "2020-04-15 05:49:47.369975\t加载进度：#### [41%]\n",
      "2020-04-15 05:49:47.369975\t加载进度：#### [44%]\n",
      "2020-04-15 05:49:47.369975\t加载进度：#### [46%]\n",
      "2020-04-15 05:49:47.369975\t加载进度：#### [48%]\n",
      "2020-04-15 05:49:47.370980\t加载进度：##### [50%]\n",
      "2020-04-15 05:49:47.370980\t加载进度：##### [53%]\n",
      "2020-04-15 05:49:47.370980\t加载进度：##### [55%]\n",
      "2020-04-15 05:49:47.370980\t加载进度：##### [57%]\n",
      "2020-04-15 05:49:47.370980\t加载进度：##### [60%]\n",
      "2020-04-15 05:49:47.371963\t加载进度：###### [62%]\n",
      "2020-04-15 05:49:47.371963\t加载进度：###### [64%]\n",
      "2020-04-15 05:49:47.371963\t加载进度：###### [67%]\n",
      "2020-04-15 05:49:47.372933\t加载进度：###### [69%]\n",
      "2020-04-15 05:49:47.372933\t加载进度：####### [71%]\n",
      "2020-04-15 05:49:47.373965\t加载进度：####### [73%]\n",
      "2020-04-15 05:49:47.374927\t加载进度：####### [76%]\n",
      "2020-04-15 05:49:47.374927\t加载进度：####### [78%]\n",
      "2020-04-15 05:49:47.374927\t加载进度：######## [80%]\n",
      "2020-04-15 05:49:47.374927\t加载进度：######## [83%]\n",
      "2020-04-15 05:49:47.375956\t加载进度：######## [85%]\n",
      "2020-04-15 05:49:47.377919\t加载进度：######## [87%]\n",
      "2020-04-15 05:49:47.377919\t加载进度：######## [90%]\n",
      "2020-04-15 05:49:47.378916\t加载进度：######### [92%]\n",
      "2020-04-15 05:49:47.378916\t加载进度：######### [94%]\n",
      "2020-04-15 05:49:47.379940\t加载进度：######### [96%]\n",
      "2020-04-15 05:49:47.379940\t加载进度：######### [99%]\n",
      "2020-04-15 05:49:47.379940\t加载进度：########## [100%]\n",
      "2020-04-15 05:49:47.379940\t历史数据加载完成，数据量：217950\n",
      "2020-04-15 05:49:47.491449\t策略初始化完成\n",
      "2020-04-15 05:49:47.491449\t开始回放历史数据\n",
      "2020-04-15 05:50:02.386625\t历史数据回放结束\n",
      "2020-04-15 05:50:02.386625\t开始计算逐日盯市盈亏\n",
      "2020-04-15 05:50:02.605361\t逐日盯市盈亏计算完成\n",
      "2020-04-15 05:50:02.605361\t开始计算策略统计指标\n",
      "2020-04-15 05:50:02.615303\t------------------------------\n",
      "2020-04-15 05:50:02.615303\t首个交易日：\t2014-10-22\n",
      "2020-04-15 05:50:02.615303\t最后交易日：\t2018-04-27\n",
      "2020-04-15 05:50:02.615303\t总交易日：\t860\n",
      "2020-04-15 05:50:02.615303\t盈利交易日：\t347\n",
      "2020-04-15 05:50:02.615303\t亏损交易日：\t513\n",
      "2020-04-15 05:50:02.615303\t起始资金：\t1,000,000.00\n",
      "2020-04-15 05:50:02.615303\t结束资金：\t267,888.63\n",
      "2020-04-15 05:50:02.615303\t总收益率：\t-73.21%\n",
      "2020-04-15 05:50:02.615303\t年化收益：\t-20.43%\n",
      "2020-04-15 05:50:02.615303\t最大回撤: \t-1,500,248.07\n",
      "2020-04-15 05:50:02.615303\t百分比最大回撤: -92.22%\n",
      "2020-04-15 05:50:02.615303\t最长回撤天数: \t696\n",
      "2020-04-15 05:50:02.615303\t总盈亏：\t-732,111.37\n",
      "2020-04-15 05:50:02.615303\t总手续费：\t1,242,171.37\n",
      "2020-04-15 05:50:02.615303\t总滑点：\t2,311,500.00\n",
      "2020-04-15 05:50:02.615303\t总成交金额：\t41,405,712,360.00\n",
      "2020-04-15 05:50:02.615303\t总成交笔数：\t38525\n",
      "2020-04-15 05:50:02.615303\t日均盈亏：\t-851.29\n",
      "2020-04-15 05:50:02.615303\t日均手续费：\t1,444.39\n",
      "2020-04-15 05:50:02.615303\t日均滑点：\t2,687.79\n",
      "2020-04-15 05:50:02.615303\t日均成交金额：\t48,146,177.16\n",
      "2020-04-15 05:50:02.615303\t日均成交笔数：\t44.79651162790697\n",
      "2020-04-15 05:50:02.615303\t日均收益率：\t-0.15%\n",
      "2020-04-15 05:50:02.615303\t收益标准差：\t2.37%\n",
      "2020-04-15 05:50:02.615303\tSharpe Ratio：\t-1.00\n",
      "2020-04-15 05:50:02.615303\t收益回撤比：\t-0.79\n",
      "2020-04-15 05:50:02.616301\t策略统计指标计算完成\n"
     ]
    },
    {
     "data": {
      "text/plain": [
       "{'start_date': datetime.date(2014, 10, 22),\n",
       " 'end_date': datetime.date(2018, 4, 27),\n",
       " 'total_days': 860,\n",
       " 'profit_days': 347,\n",
       " 'loss_days': 513,\n",
       " 'capital': 1000000,\n",
       " 'end_balance': 267888.6291999277,\n",
       " 'max_drawdown': -1500248.074200042,\n",
       " 'max_ddpercent': -92.22449247265773,\n",
       " 'max_drawdown_duration': 696,\n",
       " 'total_net_pnl': -732111.3708000728,\n",
       " 'daily_net_pnl': -851.2922916279916,\n",
       " 'total_commission': 1242171.3708,\n",
       " 'daily_commission': 1444.3853148837209,\n",
       " 'total_slippage': 2311500.0,\n",
       " 'daily_slippage': 2687.7906976744184,\n",
       " 'total_turnover': 41405712360.0,\n",
       " 'daily_turnover': 48146177.1627907,\n",
       " 'total_trade_count': 38525,\n",
       " 'daily_trade_count': 44.79651162790697,\n",
       " 'total_return': -73.21113708000723,\n",
       " 'annual_return': -20.431014999071785,\n",
       " 'daily_return': -0.152906793256539,\n",
       " 'return_std': 2.369641795177455,\n",
       " 'sharpe_ratio': -0.9996539814747953,\n",
       " 'return_drawdown_ratio': -0.7938361612747559}"
      ]
     },
     "execution_count": 5,
     "metadata": {},
     "output_type": "execute_result"
    }
   ],
   "source": [
    "#%%\n",
    "engine = BacktestingEngine()\n",
    "engine.set_parameters(\n",
    "    vt_symbol=\"IF88.CFFEX\",\n",
    "    interval=\"1m\",\n",
    "    start=datetime(2014, 10, 1),\n",
    "    end=datetime(2018, 4, 30),\n",
    "    slippage=0.2,\n",
    "    rate=0.3/10000,\n",
    "    size=300,\n",
    "    pricetick=0.2,\n",
    "    capital=1_000_000,\n",
    ")\n",
    "engine.add_strategy(TrendModelStrategy, {})\n",
    "\n",
    "engine.load_data()\n",
    "engine.run_backtesting()\n",
    "df = engine.calculate_result()\n",
    "engine.calculate_statistics()"
   ]
  },
  {
   "cell_type": "markdown",
   "metadata": {},
   "source": [
    "## 策略复现(真实情况）\n",
    "* 模拟真实的交易情况，回测参数设置：\n",
    "    * 回测时间： 2014-10-01- 2018-04-30\n",
    "    * 回测频率 ： *1m* \n",
    "    * 滑点： 0.2\n",
    "    * 交易费用：0.3/10000"
   ]
  },
  {
   "cell_type": "code",
   "execution_count": 6,
   "metadata": {
    "tags": [
     "策略复习",
     "真实情况",
     "滑点0.2",
     "交易费用万分之0.3"
    ]
   },
   "outputs": [
    {
     "data": {
      "image/png": "[encoded data removed]",
      "text/plain": [
       "<Figure size 720x1152 with 4 Axes>"
      ]
     },
     "metadata": {
      "needs_background": "light"
     },
     "output_type": "display_data"
    }
   ],
   "source": [
    "engine.show_chart()"
   ]
  },
  {
   "cell_type": "markdown",
   "metadata": {
    "tags": [
     "策略改进方向总体框架"
    ]
   },
   "source": [
    "### 策略改进方向\n",
    "* 对TrendModelStrategy策略改进可以拆分成下面若干步骤\n",
    "    * 对 TrendModel 的性能有深刻的理解\n",
    "    \n",
    "\n",
    "#### 评估 TrendModel Performance\n",
    "* 每笔头寸的实际盈亏情况\n",
    "* 模型正确识别入场时机的准确率\n",
    "    * 在设置好交易费用和佣金的前提下，统计交易盈利达到阈值的次数$Trade_{positive}$占总交易次数 $Trade_{total}$的比率\n",
    "#### 模型本身的止盈和止损设置    \n",
    "#### diff的周期\n",
    "* 5，15，30"
   ]
  },
  {
   "cell_type": "code",
   "execution_count": 7,
   "metadata": {},
   "outputs": [],
   "source": [
    "trade_result = calculate_trades_result(engine.trades)\n",
    "trade_df = generate_trade_df(engine.trades,size=1, rate=0.3/10000, slippage=0.2,capital=100_00_00)"
   ]
  },
  {
   "cell_type": "code",
   "execution_count": 8,
   "metadata": {},
   "outputs": [],
   "source": [
    "trade_result = calculate_trades_result(engine.trades)\n",
    "trade_df = generate_trade_df(engine.trades,size=1, rate=0.3/10000, slippage=0.2,capital=100_00_00)"
   ]
  },
  {
   "cell_type": "code",
   "execution_count": 9,
   "metadata": {},
   "outputs": [
    {
     "data": {
      "text/html": [
       "<div>\n",
       "<style scoped>\n",
       "    .dataframe tbody tr th:only-of-type {\n",
       "        vertical-align: middle;\n",
       "    }\n",
       "\n",
       "    .dataframe tbody tr th {\n",
       "        vertical-align: top;\n",
       "    }\n",
       "\n",
       "    .dataframe thead th {\n",
       "        text-align: right;\n",
       "    }\n",
       "</style>\n",
       "<table border=\"1\" class=\"dataframe\">\n",
       "  <thead>\n",
       "    <tr style=\"text-align: right;\">\n",
       "      <th></th>\n",
       "      <th>close_direction</th>\n",
       "      <th>close_time</th>\n",
       "      <th>close_price</th>\n",
       "      <th>pnl</th>\n",
       "      <th>volume</th>\n",
       "      <th>duration</th>\n",
       "      <th>turnover</th>\n",
       "      <th>commission</th>\n",
       "      <th>slipping</th>\n",
       "      <th>net_pnl</th>\n",
       "      <th>acum_pnl</th>\n",
       "      <th>balance</th>\n",
       "      <th>return</th>\n",
       "      <th>highlevel</th>\n",
       "      <th>drawdown</th>\n",
       "      <th>ddpercent</th>\n",
       "    </tr>\n",
       "  </thead>\n",
       "  <tbody>\n",
       "    <tr>\n",
       "      <th>0</th>\n",
       "      <td>多</td>\n",
       "      <td>2014-10-22 09:27:00</td>\n",
       "      <td>2442.6</td>\n",
       "      <td>-0.4</td>\n",
       "      <td>2.0</td>\n",
       "      <td>00:11:00</td>\n",
       "      <td>4884.8</td>\n",
       "      <td>0.146544</td>\n",
       "      <td>0.4</td>\n",
       "      <td>-0.946544</td>\n",
       "      <td>-0.946544</td>\n",
       "      <td>999999.053456</td>\n",
       "      <td>0.000000e+00</td>\n",
       "      <td>9.999991e+05</td>\n",
       "      <td>0.000000</td>\n",
       "      <td>0.000000</td>\n",
       "    </tr>\n",
       "    <tr>\n",
       "      <th>1</th>\n",
       "      <td>多</td>\n",
       "      <td>2014-10-22 09:46:00</td>\n",
       "      <td>2440.2</td>\n",
       "      <td>-0.6</td>\n",
       "      <td>2.0</td>\n",
       "      <td>00:08:00</td>\n",
       "      <td>4879.8</td>\n",
       "      <td>0.146394</td>\n",
       "      <td>0.4</td>\n",
       "      <td>-1.146394</td>\n",
       "      <td>-2.092938</td>\n",
       "      <td>999997.907062</td>\n",
       "      <td>-1.146396e-06</td>\n",
       "      <td>9.999991e+05</td>\n",
       "      <td>-1.146394</td>\n",
       "      <td>-0.000115</td>\n",
       "    </tr>\n",
       "    <tr>\n",
       "      <th>2</th>\n",
       "      <td>多</td>\n",
       "      <td>2014-10-22 09:48:00</td>\n",
       "      <td>2440.6</td>\n",
       "      <td>0.0</td>\n",
       "      <td>2.0</td>\n",
       "      <td>00:01:00</td>\n",
       "      <td>4881.2</td>\n",
       "      <td>0.146436</td>\n",
       "      <td>0.4</td>\n",
       "      <td>-0.546436</td>\n",
       "      <td>-2.639374</td>\n",
       "      <td>999997.360626</td>\n",
       "      <td>-5.464373e-07</td>\n",
       "      <td>9.999991e+05</td>\n",
       "      <td>-1.692830</td>\n",
       "      <td>-0.000169</td>\n",
       "    </tr>\n",
       "    <tr>\n",
       "      <th>3</th>\n",
       "      <td>多</td>\n",
       "      <td>2014-10-22 09:50:00</td>\n",
       "      <td>2441.0</td>\n",
       "      <td>-1.2</td>\n",
       "      <td>2.0</td>\n",
       "      <td>00:01:00</td>\n",
       "      <td>4880.8</td>\n",
       "      <td>0.146424</td>\n",
       "      <td>0.4</td>\n",
       "      <td>-1.746424</td>\n",
       "      <td>-4.385798</td>\n",
       "      <td>999995.614202</td>\n",
       "      <td>-1.746430e-06</td>\n",
       "      <td>9.999991e+05</td>\n",
       "      <td>-3.439254</td>\n",
       "      <td>-0.000344</td>\n",
       "    </tr>\n",
       "    <tr>\n",
       "      <th>4</th>\n",
       "      <td>多</td>\n",
       "      <td>2014-10-22 10:06:00</td>\n",
       "      <td>2438.4</td>\n",
       "      <td>3.4</td>\n",
       "      <td>2.0</td>\n",
       "      <td>00:15:00</td>\n",
       "      <td>4880.2</td>\n",
       "      <td>0.146406</td>\n",
       "      <td>0.4</td>\n",
       "      <td>2.853594</td>\n",
       "      <td>-1.532204</td>\n",
       "      <td>999998.467796</td>\n",
       "      <td>2.853602e-06</td>\n",
       "      <td>9.999991e+05</td>\n",
       "      <td>-0.585660</td>\n",
       "      <td>-0.000059</td>\n",
       "    </tr>\n",
       "    <tr>\n",
       "      <th>...</th>\n",
       "      <td>...</td>\n",
       "      <td>...</td>\n",
       "      <td>...</td>\n",
       "      <td>...</td>\n",
       "      <td>...</td>\n",
       "      <td>...</td>\n",
       "      <td>...</td>\n",
       "      <td>...</td>\n",
       "      <td>...</td>\n",
       "      <td>...</td>\n",
       "      <td>...</td>\n",
       "      <td>...</td>\n",
       "      <td>...</td>\n",
       "      <td>...</td>\n",
       "      <td>...</td>\n",
       "      <td>...</td>\n",
       "    </tr>\n",
       "    <tr>\n",
       "      <th>19257</th>\n",
       "      <td>多</td>\n",
       "      <td>2018-04-27 14:32:00</td>\n",
       "      <td>3746.4</td>\n",
       "      <td>-5.2</td>\n",
       "      <td>2.0</td>\n",
       "      <td>00:05:00</td>\n",
       "      <td>7487.6</td>\n",
       "      <td>0.224628</td>\n",
       "      <td>0.4</td>\n",
       "      <td>-5.824628</td>\n",
       "      <td>-2431.759078</td>\n",
       "      <td>997568.240922</td>\n",
       "      <td>-5.838810e-06</td>\n",
       "      <td>1.002091e+06</td>\n",
       "      <td>-4522.784320</td>\n",
       "      <td>-0.451335</td>\n",
       "    </tr>\n",
       "    <tr>\n",
       "      <th>19258</th>\n",
       "      <td>空</td>\n",
       "      <td>2018-04-27 14:46:00</td>\n",
       "      <td>3748.4</td>\n",
       "      <td>-4.0</td>\n",
       "      <td>2.0</td>\n",
       "      <td>00:13:00</td>\n",
       "      <td>7500.8</td>\n",
       "      <td>0.225024</td>\n",
       "      <td>0.4</td>\n",
       "      <td>-4.625024</td>\n",
       "      <td>-2436.384102</td>\n",
       "      <td>997563.615898</td>\n",
       "      <td>-4.636309e-06</td>\n",
       "      <td>1.002091e+06</td>\n",
       "      <td>-4527.409344</td>\n",
       "      <td>-0.451796</td>\n",
       "    </tr>\n",
       "    <tr>\n",
       "      <th>19259</th>\n",
       "      <td>空</td>\n",
       "      <td>2018-04-27 14:48:00</td>\n",
       "      <td>3748.0</td>\n",
       "      <td>-0.4</td>\n",
       "      <td>2.0</td>\n",
       "      <td>00:01:00</td>\n",
       "      <td>7496.4</td>\n",
       "      <td>0.224892</td>\n",
       "      <td>0.4</td>\n",
       "      <td>-1.024892</td>\n",
       "      <td>-2437.408994</td>\n",
       "      <td>997562.591006</td>\n",
       "      <td>-1.027396e-06</td>\n",
       "      <td>1.002091e+06</td>\n",
       "      <td>-4528.434236</td>\n",
       "      <td>-0.451898</td>\n",
       "    </tr>\n",
       "    <tr>\n",
       "      <th>19260</th>\n",
       "      <td>空</td>\n",
       "      <td>2018-04-27 14:50:00</td>\n",
       "      <td>3748.0</td>\n",
       "      <td>-1.8</td>\n",
       "      <td>2.0</td>\n",
       "      <td>00:01:00</td>\n",
       "      <td>7497.8</td>\n",
       "      <td>0.224934</td>\n",
       "      <td>0.4</td>\n",
       "      <td>-2.424934</td>\n",
       "      <td>-2439.833928</td>\n",
       "      <td>997560.166072</td>\n",
       "      <td>-2.430862e-06</td>\n",
       "      <td>1.002091e+06</td>\n",
       "      <td>-4530.859170</td>\n",
       "      <td>-0.452140</td>\n",
       "    </tr>\n",
       "    <tr>\n",
       "      <th>19261</th>\n",
       "      <td>空</td>\n",
       "      <td>2018-04-27 14:52:00</td>\n",
       "      <td>3748.0</td>\n",
       "      <td>-0.6</td>\n",
       "      <td>2.0</td>\n",
       "      <td>00:01:00</td>\n",
       "      <td>7496.6</td>\n",
       "      <td>0.224898</td>\n",
       "      <td>0.4</td>\n",
       "      <td>-1.224898</td>\n",
       "      <td>-2441.058826</td>\n",
       "      <td>997558.941174</td>\n",
       "      <td>-1.227895e-06</td>\n",
       "      <td>1.002091e+06</td>\n",
       "      <td>-4532.084068</td>\n",
       "      <td>-0.452263</td>\n",
       "    </tr>\n",
       "  </tbody>\n",
       "</table>\n",
       "<p>19262 rows × 16 columns</p>\n",
       "</div>"
      ],
      "text/plain": [
       "      close_direction          close_time  close_price  pnl  volume duration  \\\n",
       "0                   多 2014-10-22 09:27:00       2442.6 -0.4     2.0 00:11:00   \n",
       "1                   多 2014-10-22 09:46:00       2440.2 -0.6     2.0 00:08:00   \n",
       "2                   多 2014-10-22 09:48:00       2440.6  0.0     2.0 00:01:00   \n",
       "3                   多 2014-10-22 09:50:00       2441.0 -1.2     2.0 00:01:00   \n",
       "4                   多 2014-10-22 10:06:00       2438.4  3.4     2.0 00:15:00   \n",
       "...               ...                 ...          ...  ...     ...      ...   \n",
       "19257               多 2018-04-27 14:32:00       3746.4 -5.2     2.0 00:05:00   \n",
       "19258               空 2018-04-27 14:46:00       3748.4 -4.0     2.0 00:13:00   \n",
       "19259               空 2018-04-27 14:48:00       3748.0 -0.4     2.0 00:01:00   \n",
       "19260               空 2018-04-27 14:50:00       3748.0 -1.8     2.0 00:01:00   \n",
       "19261               空 2018-04-27 14:52:00       3748.0 -0.6     2.0 00:01:00   \n",
       "\n",
       "       turnover  commission  slipping   net_pnl     acum_pnl        balance  \\\n",
       "0        4884.8    0.146544       0.4 -0.946544    -0.946544  999999.053456   \n",
       "1        4879.8    0.146394       0.4 -1.146394    -2.092938  999997.907062   \n",
       "2        4881.2    0.146436       0.4 -0.546436    -2.639374  999997.360626   \n",
       "3        4880.8    0.146424       0.4 -1.746424    -4.385798  999995.614202   \n",
       "4        4880.2    0.146406       0.4  2.853594    -1.532204  999998.467796   \n",
       "...         ...         ...       ...       ...          ...            ...   \n",
       "19257    7487.6    0.224628       0.4 -5.824628 -2431.759078  997568.240922   \n",
       "19258    7500.8    0.225024       0.4 -4.625024 -2436.384102  997563.615898   \n",
       "19259    7496.4    0.224892       0.4 -1.024892 -2437.408994  997562.591006   \n",
       "19260    7497.8    0.224934       0.4 -2.424934 -2439.833928  997560.166072   \n",
       "19261    7496.6    0.224898       0.4 -1.224898 -2441.058826  997558.941174   \n",
       "\n",
       "             return     highlevel     drawdown  ddpercent  \n",
       "0      0.000000e+00  9.999991e+05     0.000000   0.000000  \n",
       "1     -1.146396e-06  9.999991e+05    -1.146394  -0.000115  \n",
       "2     -5.464373e-07  9.999991e+05    -1.692830  -0.000169  \n",
       "3     -1.746430e-06  9.999991e+05    -3.439254  -0.000344  \n",
       "4      2.853602e-06  9.999991e+05    -0.585660  -0.000059  \n",
       "...             ...           ...          ...        ...  \n",
       "19257 -5.838810e-06  1.002091e+06 -4522.784320  -0.451335  \n",
       "19258 -4.636309e-06  1.002091e+06 -4527.409344  -0.451796  \n",
       "19259 -1.027396e-06  1.002091e+06 -4528.434236  -0.451898  \n",
       "19260 -2.430862e-06  1.002091e+06 -4530.859170  -0.452140  \n",
       "19261 -1.227895e-06  1.002091e+06 -4532.084068  -0.452263  \n",
       "\n",
       "[19262 rows x 16 columns]"
      ]
     },
     "execution_count": 9,
     "metadata": {},
     "output_type": "execute_result"
    }
   ],
   "source": [
    "trade_df"
   ]
  },
  {
   "cell_type": "markdown",
   "metadata": {},
   "source": [
    "###### 模型准确率\n",
    "* $Accuracy_{trendmodel}$ = $Trade_{positive}$ / $Trade_{total}$\n",
    "    * 当 *net_pnl* 的阈值设置为0时且不考虑手续费和滑点时，$Accuracy_{trendmodel}= 0.28$\n",
    "    * 当 *net_pnl* 的阈值设置为0时且考虑手续费和滑点时，$Accuracy_{trendmodel}= 0.25$\n",
    "        * 两种情况下*Trend Model* 的精准率都很低\n",
    "            * 可能改进方向（原因）：\n",
    "                * 1.*1m Bar Data* 的噪音可能过多，尝试使用更低频的数据\n",
    "                * 2.将TrendModel 当作是*Primay model*，再开发另一个*Sub Model* 专门负责对于*Trend Model*的信号进行再过滤\n",
    "                * 3. 在Bar Data的合成上，考虑其它的合成方式。\n",
    "        * 通过对每笔交易的盈亏情况进行分析：\n",
    "            * 通过分别对前25%的return和后25%的return进行分析（极端收益部分）分析发现\n",
    "                * 1. 在两种情况下（有滑点/无滑点），$Mean_{-return} < Mean_{+return}$。这在某种程度上解释了，在不考虑手续费和滑点的情况下，$Accuracy_{trendmodel}$ 只有 *0.28* 时策略的 *balance* 曲线 呈现45°向上的特征的原因：\n",
    "                    * 虽然有62%的交易是亏损的，但是其中极大部分都是小亏，余下28%的交易的盈利可以覆盖掉这些亏损的交易\n",
    "                * 2. 加入滑点"
   ]
  },
  {
   "cell_type": "code",
   "execution_count": 11,
   "metadata": {
    "tags": [
     "模型准确率",
     "不考虑滑点和手续费"
    ]
   },
   "outputs": [
    {
     "name": "stdout",
     "output_type": "stream",
     "text": [
      "0.28\n"
     ]
    }
   ],
   "source": [
    "\n",
    "trade_df_without_fee = generate_trade_df(engine.trades,size=1, rate=0, slippage=0,capital=100_00_00)\n",
    "threshold_return = 0\n",
    "model_accuracy_without_fee = np.sum(trade_df_without_fee['net_pnl']>threshold_return)/trade_df_without_fee['net_pnl'].shape[0]\n",
    "print(np.round(model_accuracy_without_fee,2))"
   ]
  },
  {
   "cell_type": "code",
   "execution_count": 16,
   "metadata": {
    "tags": [
     "模型准确率",
     "考虑滑点和手续费"
    ]
   },
   "outputs": [
    {
     "name": "stdout",
     "output_type": "stream",
     "text": [
      "0.25\n"
     ]
    }
   ],
   "source": [
    "# import pandas as pd\n",
    "\n",
    "trade_df_with_fee = generate_trade_df(engine.trades,size=1, rate=0.3/10000, slippage=0.2,capital=100_00_00)\n",
    "threshold_return = 0\n",
    "model_accuracy_with_fee = np.sum(trade_df_with_fee['net_pnl']>threshold_return)/trade_df_with_fee['net_pnl'].shape[0]\n",
    "print(np.round(model_accuracy_with_fee,2))"
   ]
  },
  {
   "cell_type": "code",
   "execution_count": 17,
   "metadata": {
    "tags": [
     "头寸盈亏情况概览"
    ]
   },
   "outputs": [
    {
     "data": {
      "text/html": [
       "<div>\n",
       "<style scoped>\n",
       "    .dataframe tbody tr th:only-of-type {\n",
       "        vertical-align: middle;\n",
       "    }\n",
       "\n",
       "    .dataframe tbody tr th {\n",
       "        vertical-align: top;\n",
       "    }\n",
       "\n",
       "    .dataframe thead th {\n",
       "        text-align: right;\n",
       "    }\n",
       "</style>\n",
       "<table border=\"1\" class=\"dataframe\">\n",
       "  <thead>\n",
       "    <tr style=\"text-align: right;\">\n",
       "      <th></th>\n",
       "      <th>with_fee</th>\n",
       "      <th>without_fee</th>\n",
       "    </tr>\n",
       "  </thead>\n",
       "  <tbody>\n",
       "    <tr>\n",
       "      <th>count</th>\n",
       "      <td>19262.000000</td>\n",
       "      <td>19262.000000</td>\n",
       "    </tr>\n",
       "    <tr>\n",
       "      <th>mean</th>\n",
       "      <td>-0.126729</td>\n",
       "      <td>0.488226</td>\n",
       "    </tr>\n",
       "    <tr>\n",
       "      <th>std</th>\n",
       "      <td>10.913704</td>\n",
       "      <td>10.913932</td>\n",
       "    </tr>\n",
       "    <tr>\n",
       "      <th>min</th>\n",
       "      <td>-125.791316</td>\n",
       "      <td>-125.200000</td>\n",
       "    </tr>\n",
       "    <tr>\n",
       "      <th>25%</th>\n",
       "      <td>-3.234897</td>\n",
       "      <td>-2.600000</td>\n",
       "    </tr>\n",
       "    <tr>\n",
       "      <th>50%</th>\n",
       "      <td>-1.610846</td>\n",
       "      <td>-1.000000</td>\n",
       "    </tr>\n",
       "    <tr>\n",
       "      <th>75%</th>\n",
       "      <td>0.010046</td>\n",
       "      <td>0.600000</td>\n",
       "    </tr>\n",
       "    <tr>\n",
       "      <th>max</th>\n",
       "      <td>293.347700</td>\n",
       "      <td>294.000000</td>\n",
       "    </tr>\n",
       "  </tbody>\n",
       "</table>\n",
       "</div>"
      ],
      "text/plain": [
       "           with_fee   without_fee\n",
       "count  19262.000000  19262.000000\n",
       "mean      -0.126729      0.488226\n",
       "std       10.913704     10.913932\n",
       "min     -125.791316   -125.200000\n",
       "25%       -3.234897     -2.600000\n",
       "50%       -1.610846     -1.000000\n",
       "75%        0.010046      0.600000\n",
       "max      293.347700    294.000000"
      ]
     },
     "execution_count": 17,
     "metadata": {},
     "output_type": "execute_result"
    }
   ],
   "source": [
    "with_fee_describe = trade_df_with_fee['net_pnl'].describe()\n",
    "without_fee_describe = trade_df_without_fee['net_pnl'].describe()\n",
    "combine_describe = pd.concat([with_fee_describe,without_fee_describe],axis=1)\n",
    "combine_describe.columns = ['with_fee','without_fee']\n",
    "combine_describe"
   ]
  },
  {
   "cell_type": "code",
   "execution_count": 38,
   "metadata": {
    "tags": [
     "无滑点",
     "quantile75_收益情况"
    ]
   },
   "outputs": [
    {
     "data": {
      "text/plain": [
       "count    4816.000000\n",
       "mean       10.743065\n",
       "std        16.664408\n",
       "min         0.600000\n",
       "25%         2.400000\n",
       "50%         5.400000\n",
       "75%        12.400000\n",
       "max       294.000000\n",
       "Name: net_pnl, dtype: float64"
      ]
     },
     "execution_count": 38,
     "metadata": {},
     "output_type": "execute_result"
    }
   ],
   "source": [
    "quantile = 0.75\n",
    "quantile_index = int(trade_df_with_fee['net_pnl'].shape[0]*quantile)\n",
    "trade_df_without_fee_sort = trade_df_without_fee['net_pnl'].sort_values()\n",
    "quantile_trade_df_without_fee_sort=trade_df_without_fee_sort[quantile_index:]\n",
    "quantitle_75_return_mean_without_fee = quantile_trade_df_without_fee_sort.mean()\n",
    "quantitle_75_return_count_without_fee = quantile_trade_df_without_fee_sort.count()\n",
    "quantile_trade_df_without_fee_sort.describe()"
   ]
  },
  {
   "cell_type": "code",
   "execution_count": 39,
   "metadata": {
    "tags": [
     "有滑点",
     "quantile_75收益情况"
    ]
   },
   "outputs": [
    {
     "data": {
      "text/plain": [
       "count    4816.000000\n",
       "mean       10.127414\n",
       "std        16.659214\n",
       "min         0.010082\n",
       "25%         1.800281\n",
       "50%         4.806254\n",
       "75%        11.816697\n",
       "max       293.347700\n",
       "Name: net_pnl, dtype: float64"
      ]
     },
     "execution_count": 39,
     "metadata": {},
     "output_type": "execute_result"
    }
   ],
   "source": [
    "quantile = 0.75\n",
    "quantile_index = int(trade_df_with_fee['net_pnl'].shape[0]*quantile)\n",
    "trade_df_with_fee_sort = trade_df_with_fee['net_pnl'].sort_values()\n",
    "quantile_trade_df_with_fee_sort=trade_df_with_fee_sort[quantile_index:]\n",
    "quantitle_75_return_mean_with_fee = quantile_trade_df_with_fee_sort.mean()\n",
    "quantitle_75_return_count_with_fee = quantile_trade_df_with_fee_sort.count()\n",
    "quantile_trade_df_with_fee_sort.describe()"
   ]
  },
  {
   "cell_type": "code",
   "execution_count": 34,
   "metadata": {
    "tags": [
     "无滑点",
     "quantile25_收益情况"
    ]
   },
   "outputs": [
    {
     "data": {
      "text/plain": [
       "count    4815.000000\n",
       "mean       -6.654081\n",
       "std         6.041302\n",
       "min      -125.200000\n",
       "25%        -7.400000\n",
       "50%        -4.800000\n",
       "75%        -3.400000\n",
       "max        -2.600000\n",
       "Name: net_pnl, dtype: float64"
      ]
     },
     "execution_count": 34,
     "metadata": {},
     "output_type": "execute_result"
    }
   ],
   "source": [
    "quantile = 0.25\n",
    "quantile_index = int(trade_df_with_fee['net_pnl'].shape[0]*quantile)\n",
    "trade_df_without_fee_sort = trade_df_without_fee['net_pnl'].sort_values()\n",
    "quantile_trade_df_without_fee_sort=trade_df_without_fee_sort[:quantile_index]\n",
    "quantitle_25_return_mean_without_fee = quantile_trade_df_without_fee_sort.mean()\n",
    "quantitle_25_return_count_without_fee = quantile_trade_df_without_fee_sort.count()\n",
    "quantile_trade_df_without_fee_sort.describe()"
   ]
  },
  {
   "cell_type": "code",
   "execution_count": 33,
   "metadata": {
    "tags": [
     "有滑点",
     "quantile25_收益情况"
    ]
   },
   "outputs": [
    {
     "data": {
      "text/plain": [
       "count    4815.000000\n",
       "mean       -7.278163\n",
       "std         6.046627\n",
       "min      -125.791316\n",
       "25%        -8.019324\n",
       "50%        -5.405356\n",
       "75%        -4.031516\n",
       "max        -3.236046\n",
       "Name: net_pnl, dtype: float64"
      ]
     },
     "execution_count": 33,
     "metadata": {},
     "output_type": "execute_result"
    }
   ],
   "source": [
    "quantile = 0.25\n",
    "quantile_index = int(trade_df_with_fee['net_pnl'].shape[0]*quantile)\n",
    "trade_df_with_fee_sort = trade_df_with_fee['net_pnl'].sort_values()\n",
    "quantile_trade_df_with_fee_sort=trade_df_with_fee_sort[:quantile_index]\n",
    "quantitle_25_return_mean_with_fee = quantile_trade_df_with_fee_sort.mean()\n",
    "quantitle_25_return_count_with_fee = quantile_trade_df_with_fee_sort.count()\n",
    "quantile_trade_df_with_fee_sort.describe()"
   ]
  },
  {
   "cell_type": "code",
   "execution_count": 40,
   "metadata": {
    "tags": [
     "无滑点",
     "quantile25_75收益情况"
    ]
   },
   "outputs": [
    {
     "data": {
      "text/plain": [
       "count    9631.000000\n",
       "mean       -1.068944\n",
       "std         0.788019\n",
       "min        -2.600000\n",
       "25%        -1.600000\n",
       "50%        -1.000000\n",
       "75%        -0.400000\n",
       "max         0.600000\n",
       "Name: net_pnl, dtype: float64"
      ]
     },
     "execution_count": 40,
     "metadata": {},
     "output_type": "execute_result"
    }
   ],
   "source": [
    "quantile_start = 0.25\n",
    "quantile_end = 0.75\n",
    "quantile_index_start = int(trade_df_with_fee['net_pnl'].shape[0]*quantile_start)\n",
    "quantile_index_end = int(trade_df_with_fee['net_pnl'].shape[0]*quantile_end)\n",
    "trade_df_without_fee_sort = trade_df_without_fee['net_pnl'].sort_values()\n",
    "quantile_trade_df_without_fee_sort=trade_df_without_fee_sort[quantile_index_start:quantile_index_end]\n",
    "quantitle_25_75_return_mean_without_fee = quantile_trade_df_without_fee_sort.mean()\n",
    "quantitle_25_75_return_count_without_fee = quantile_trade_df_without_fee_sort.count()\n",
    "quantile_trade_df_without_fee_sort.describe()\n"
   ]
  },
  {
   "cell_type": "code",
   "execution_count": 41,
   "metadata": {
    "tags": [
     "有滑点",
     "quantile25_75收益情况"
    ]
   },
   "outputs": [
    {
     "data": {
      "text/plain": [
       "count    9631.000000\n",
       "mean       -1.678988\n",
       "std         0.789031\n",
       "min        -3.234990\n",
       "25%        -2.242370\n",
       "50%        -1.610894\n",
       "75%        -1.034384\n",
       "max         0.009938\n",
       "Name: net_pnl, dtype: float64"
      ]
     },
     "execution_count": 41,
     "metadata": {},
     "output_type": "execute_result"
    }
   ],
   "source": [
    "quantile_start = 0.25\n",
    "quantile_end = 0.75\n",
    "quantile_index_start = int(trade_df_with_fee['net_pnl'].shape[0]*quantile_start)\n",
    "quantile_index_end = int(trade_df_with_fee['net_pnl'].shape[0]*quantile_end)\n",
    "trade_df_without_fee_sort = trade_df_without_fee['net_pnl'].sort_values()\n",
    "quantile_trade_df_with_fee_sort=trade_df_with_fee_sort[quantile_index_start:quantile_index_end]\n",
    "quantitle_25_75_return_mean_with_fee = quantile_trade_df_with_fee_sort.mean()\n",
    "quantitle_25_75_return_count_with_fee = quantile_trade_df_with_fee_sort.count()\n",
    "quantile_trade_df_with_fee_sort.describe()"
   ]
  },
  {
   "cell_type": "markdown",
   "metadata": {},
   "source": [
    "NetPnl Range    |Mean    |Count\n",
    "-----------------|-------- |-----\n",
    "$Return_{q0,25}$ |-6.66   |4815\n",
    "-----------------|---------|-----\n",
    "$Return_{q25,75}$|-1.06   |9631\n",
    "-----------------|---------|----\n",
    "$Return_{q75,}$  |10.74   |4816"
   ]
  },
  {
   "cell_type": "markdown",
   "metadata": {},
   "source": [
    "#### NetPnl 统计信息（without fee and slippage）\n",
    "\n",
    "NetPnl Range    |Mean    |Count\n",
    "-----------------|-------- |-----\n",
    "$Return_{q0,25}$ |-6.66   |4815\n",
    "$Return_{q25,75}$|-1.06   |9631\n",
    "$Return_{q75,}$  |10.74   |4816\n",
    "\n",
    "* 该图表说明了\n",
    "* 统计时间\n"
   ]
  },
  {
   "cell_type": "code",
   "execution_count": 52,
   "metadata": {},
   "outputs": [
    {
     "data": {
      "text/plain": [
       "10.74306478405314"
      ]
     },
     "execution_count": 52,
     "metadata": {},
     "output_type": "execute_result"
    }
   ],
   "source": [
    "quantitle_75_return_mean_without_fee"
   ]
  },
  {
   "cell_type": "code",
   "execution_count": 53,
   "metadata": {},
   "outputs": [
    {
     "data": {
      "text/plain": [
       "4816"
      ]
     },
     "execution_count": 53,
     "metadata": {},
     "output_type": "execute_result"
    }
   ],
   "source": [
    "quantitle_75_return_count_without_fee"
   ]
  },
  {
   "cell_type": "code",
   "execution_count": 47,
   "metadata": {},
   "outputs": [
    {
     "data": {
      "text/plain": [
       "2.0002076843198338"
      ]
     },
     "execution_count": 47,
     "metadata": {},
     "output_type": "execute_result"
    }
   ],
   "source": [
    "quantitle_25_75_return_count_without_fee/quantitle_25_return_count_without_fee"
   ]
  },
  {
   "cell_type": "code",
   "execution_count": 44,
   "metadata": {},
   "outputs": [
    {
     "data": {
      "text/plain": [
       "-6.654080996884758"
      ]
     },
     "execution_count": 44,
     "metadata": {},
     "output_type": "execute_result"
    }
   ],
   "source": [
    "quantitle_25_return_mean_without_fee"
   ]
  },
  {
   "cell_type": "code",
   "execution_count": 45,
   "metadata": {},
   "outputs": [
    {
     "data": {
      "text/plain": [
       "10.74306478405314"
      ]
     },
     "execution_count": 45,
     "metadata": {},
     "output_type": "execute_result"
    }
   ],
   "source": [
    "quantitle_75_return_mean_without_fee"
   ]
  },
  {
   "cell_type": "code",
   "execution_count": 75,
   "metadata": {},
   "outputs": [
    {
     "ename": "TypeError",
     "evalue": "Only valid with DatetimeIndex, TimedeltaIndex or PeriodIndex, but got an instance of 'RangeIndex'",
     "output_type": "error",
     "traceback": [
      "\u001b[1;31m---------------------------------------------------------------------------\u001b[0m",
      "\u001b[1;31mTypeError\u001b[0m                                 Traceback (most recent call last)",
      "\u001b[1;32m<ipython-input-75-4e47e53f942a>\u001b[0m in \u001b[0;36m<module>\u001b[1;34m\u001b[0m\n\u001b[1;32m----> 1\u001b[1;33m \u001b[0mtrade_df_with_fee\u001b[0m\u001b[1;33m[\u001b[0m\u001b[1;34m'close_time'\u001b[0m\u001b[1;33m]\u001b[0m\u001b[1;33m.\u001b[0m\u001b[0mresample\u001b[0m\u001b[1;33m(\u001b[0m\u001b[1;34m'1D'\u001b[0m\u001b[1;33m)\u001b[0m\u001b[1;33m\u001b[0m\u001b[1;33m\u001b[0m\u001b[0m\n\u001b[0m",
      "\u001b[1;32mc:\\vnstudio\\lib\\site-packages\\pandas\\core\\generic.py\u001b[0m in \u001b[0;36mresample\u001b[1;34m(self, rule, how, axis, fill_method, closed, label, convention, kind, loffset, limit, base, on, level)\u001b[0m\n\u001b[0;32m   8447\u001b[0m             \u001b[0mbase\u001b[0m\u001b[1;33m=\u001b[0m\u001b[0mbase\u001b[0m\u001b[1;33m,\u001b[0m\u001b[1;33m\u001b[0m\u001b[1;33m\u001b[0m\u001b[0m\n\u001b[0;32m   8448\u001b[0m             \u001b[0mkey\u001b[0m\u001b[1;33m=\u001b[0m\u001b[0mon\u001b[0m\u001b[1;33m,\u001b[0m\u001b[1;33m\u001b[0m\u001b[1;33m\u001b[0m\u001b[0m\n\u001b[1;32m-> 8449\u001b[1;33m             \u001b[0mlevel\u001b[0m\u001b[1;33m=\u001b[0m\u001b[0mlevel\u001b[0m\u001b[1;33m,\u001b[0m\u001b[1;33m\u001b[0m\u001b[1;33m\u001b[0m\u001b[0m\n\u001b[0m\u001b[0;32m   8450\u001b[0m         )\n\u001b[0;32m   8451\u001b[0m         return _maybe_process_deprecations(\n",
      "\u001b[1;32mc:\\vnstudio\\lib\\site-packages\\pandas\\core\\resample.py\u001b[0m in \u001b[0;36mresample\u001b[1;34m(obj, kind, **kwds)\u001b[0m\n\u001b[0;32m   1304\u001b[0m     \"\"\"\n\u001b[0;32m   1305\u001b[0m     \u001b[0mtg\u001b[0m \u001b[1;33m=\u001b[0m \u001b[0mTimeGrouper\u001b[0m\u001b[1;33m(\u001b[0m\u001b[1;33m**\u001b[0m\u001b[0mkwds\u001b[0m\u001b[1;33m)\u001b[0m\u001b[1;33m\u001b[0m\u001b[1;33m\u001b[0m\u001b[0m\n\u001b[1;32m-> 1306\u001b[1;33m     \u001b[1;32mreturn\u001b[0m \u001b[0mtg\u001b[0m\u001b[1;33m.\u001b[0m\u001b[0m_get_resampler\u001b[0m\u001b[1;33m(\u001b[0m\u001b[0mobj\u001b[0m\u001b[1;33m,\u001b[0m \u001b[0mkind\u001b[0m\u001b[1;33m=\u001b[0m\u001b[0mkind\u001b[0m\u001b[1;33m)\u001b[0m\u001b[1;33m\u001b[0m\u001b[1;33m\u001b[0m\u001b[0m\n\u001b[0m\u001b[0;32m   1307\u001b[0m \u001b[1;33m\u001b[0m\u001b[0m\n\u001b[0;32m   1308\u001b[0m \u001b[1;33m\u001b[0m\u001b[0m\n",
      "\u001b[1;32mc:\\vnstudio\\lib\\site-packages\\pandas\\core\\resample.py\u001b[0m in \u001b[0;36m_get_resampler\u001b[1;34m(self, obj, kind)\u001b[0m\n\u001b[0;32m   1441\u001b[0m             \u001b[1;34m\"Only valid with DatetimeIndex, \"\u001b[0m\u001b[1;33m\u001b[0m\u001b[1;33m\u001b[0m\u001b[0m\n\u001b[0;32m   1442\u001b[0m             \u001b[1;34m\"TimedeltaIndex or PeriodIndex, \"\u001b[0m\u001b[1;33m\u001b[0m\u001b[1;33m\u001b[0m\u001b[0m\n\u001b[1;32m-> 1443\u001b[1;33m             \u001b[1;34m\"but got an instance of %r\"\u001b[0m \u001b[1;33m%\u001b[0m \u001b[0mtype\u001b[0m\u001b[1;33m(\u001b[0m\u001b[0max\u001b[0m\u001b[1;33m)\u001b[0m\u001b[1;33m.\u001b[0m\u001b[0m__name__\u001b[0m\u001b[1;33m\u001b[0m\u001b[1;33m\u001b[0m\u001b[0m\n\u001b[0m\u001b[0;32m   1444\u001b[0m         )\n\u001b[0;32m   1445\u001b[0m \u001b[1;33m\u001b[0m\u001b[0m\n",
      "\u001b[1;31mTypeError\u001b[0m: Only valid with DatetimeIndex, TimedeltaIndex or PeriodIndex, but got an instance of 'RangeIndex'"
     ]
    }
   ],
   "source": [
    "trade_df_with_fee(index=trade_df_with_fee.c"
   ]
  },
  {
   "cell_type": "code",
   "execution_count": 48,
   "metadata": {},
   "outputs": [
    {
     "data": {
      "text/html": [
       "<div>\n",
       "<style scoped>\n",
       "    .dataframe tbody tr th:only-of-type {\n",
       "        vertical-align: middle;\n",
       "    }\n",
       "\n",
       "    .dataframe tbody tr th {\n",
       "        vertical-align: top;\n",
       "    }\n",
       "\n",
       "    .dataframe thead th {\n",
       "        text-align: right;\n",
       "    }\n",
       "</style>\n",
       "<table border=\"1\" class=\"dataframe\">\n",
       "  <thead>\n",
       "    <tr style=\"text-align: right;\">\n",
       "      <th></th>\n",
       "      <th>without_fee</th>\n",
       "      <th>with_fee</th>\n",
       "    </tr>\n",
       "  </thead>\n",
       "  <tbody>\n",
       "    <tr>\n",
       "      <th>count</th>\n",
       "      <td>19262.000000</td>\n",
       "      <td>19262.000000</td>\n",
       "    </tr>\n",
       "    <tr>\n",
       "      <th>mean</th>\n",
       "      <td>-0.126729</td>\n",
       "      <td>0.488226</td>\n",
       "    </tr>\n",
       "    <tr>\n",
       "      <th>std</th>\n",
       "      <td>10.913704</td>\n",
       "      <td>10.913932</td>\n",
       "    </tr>\n",
       "    <tr>\n",
       "      <th>min</th>\n",
       "      <td>-125.791316</td>\n",
       "      <td>-125.200000</td>\n",
       "    </tr>\n",
       "    <tr>\n",
       "      <th>25%</th>\n",
       "      <td>-3.234897</td>\n",
       "      <td>-2.600000</td>\n",
       "    </tr>\n",
       "    <tr>\n",
       "      <th>50%</th>\n",
       "      <td>-1.610846</td>\n",
       "      <td>-1.000000</td>\n",
       "    </tr>\n",
       "    <tr>\n",
       "      <th>75%</th>\n",
       "      <td>0.010046</td>\n",
       "      <td>0.600000</td>\n",
       "    </tr>\n",
       "    <tr>\n",
       "      <th>max</th>\n",
       "      <td>293.347700</td>\n",
       "      <td>294.000000</td>\n",
       "    </tr>\n",
       "  </tbody>\n",
       "</table>\n",
       "</div>"
      ],
      "text/plain": [
       "        without_fee      with_fee\n",
       "count  19262.000000  19262.000000\n",
       "mean      -0.126729      0.488226\n",
       "std       10.913704     10.913932\n",
       "min     -125.791316   -125.200000\n",
       "25%       -3.234897     -2.600000\n",
       "50%       -1.610846     -1.000000\n",
       "75%        0.010046      0.600000\n",
       "max      293.347700    294.000000"
      ]
     },
     "execution_count": 48,
     "metadata": {},
     "output_type": "execute_result"
    }
   ],
   "source": [
    "combine_describe"
   ]
  },
  {
   "cell_type": "code",
   "execution_count": null,
   "metadata": {},
   "outputs": [],
   "source": []
  }
 ],
 "metadata": {
  "celltoolbar": "Tags",
  "kernelspec": {
   "display_name": "mlfinance",
   "language": "python",
   "name": "mlfinance"
  },
  "language_info": {
   "codemirror_mode": {
    "name": "ipython",
    "version": 3
   },
   "file_extension": ".py",
   "mimetype": "text/x-python",
   "name": "python",
   "nbconvert_exporter": "python",
   "pygments_lexer": "ipython3",
   "version": "3.7.1"
  }
 },
 "nbformat": 4,
 "nbformat_minor": 2
}
