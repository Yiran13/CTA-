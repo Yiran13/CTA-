{
 "cells": [
  {
   "cell_type": "code",
   "execution_count": 7,
   "metadata": {},
   "outputs": [
    {
     "name": "stdout",
     "output_type": "stream",
     "text": [
      "插入583560 根bar 从 2010-04-16 09:15:00 到 2019-07-29 14:59:00\n"
     ]
    }
   ],
   "source": [
    "# encoding: UTF-8\n",
    "\n",
    "\"\"\"\n",
    "导入CSV历史数据到vnpy默认数据库中\n",
    "\"\"\"\n",
    "\n",
    "from time import time\n",
    "from datetime import datetime\n",
    "import csv\n",
    "from vnpy.trader.database.initialize import init_sql\n",
    "import pandas as pd\n",
    "from typing import TextIO\n",
    "from vnpy.trader.object import BarData,TickData\n",
    "from vnpy.trader.constant import Exchange, Interval\n",
    "from vnpy.trader.database.database import Driver\n",
    "from vnpy.trader.database import database_manager\n",
    "\n",
    "exchange_dict={\"CFFEX\":Exchange.CFFEX,\n",
    "\"SHFE\" : Exchange.SHFE,# Shanghai Futures Exchange\n",
    "\"CZCE\" :Exchange.CZCE, # Zhengzhou Commodity Exchange\n",
    " \"DCE\":Exchange.DCE,  # Dalian Commodity Exchange\n",
    " \"INE\":Exchange.INE,  # Shanghai International Energy Exchange\n",
    "\"SSE\" :Exchange.SSE, # Shanghai Stock Exchange\n",
    "\"SZSE\":Exchange.SZSE,  # Shenzhen Stock Exchange\n",
    "\"SGE\" :Exchange.SGE,# Shanghai Gold Exchange\n",
    " \"WXE\" :Exchange.WXE,} # Wuxi Steel Exchange\n",
    "\n",
    "interval_dict={\"1m\": Interval.MINUTE,'1d': Interval.DAILY}\n",
    "\n",
    "settings={\n",
    "\n",
    "    \"database\": \"database.db\",\n",
    "    \"host\": \"localhost\",\n",
    "    \"port\": 3306,\n",
    "    \"user\": \"root\",\n",
    "    \"password\": \"\",\n",
    "    \"authentication_source\": \"admin\"\n",
    "}\n",
    "sql_manager = init_sql(driver=Driver.SQLITE, settings=settings)\n",
    "\n",
    "\n",
    "def move_df_to_sql(data_df:pd.DataFrame):\n",
    "    bars = []\n",
    "    start = None\n",
    "    count = 0\n",
    "\n",
    "    for row in data_df.itertuples():\n",
    "\n",
    "        bar = BarData(\n",
    "            symbol=row.symbol.upper(),\n",
    "            exchange=exchange_dict[row.exchange],\n",
    "            datetime=row.datetime,\n",
    "            interval=interval_dict[row.interval],\n",
    "            volume=float(row.volume),\n",
    "            open_price=float(row.open),\n",
    "            high_price=float(row.high),\n",
    "            low_price=float(row.low),\n",
    "            close_price=float(row.close),\n",
    "            open_interest=float(row.open_interest),\n",
    "            gateway_name=\"DB\",\n",
    "        )\n",
    "\n",
    "\n",
    "        bars.append(bar)\n",
    "\n",
    "        # do some statistics\n",
    "        count += 1\n",
    "        if not start:\n",
    "            start = bar.datetime\n",
    "    end = bar.datetime\n",
    "\n",
    "    # insert into database\n",
    "    sql_manager.save_bar_data(bars)\n",
    "    print(f'插入{count} 根bar 从 {start} 到 {end}')\n",
    "\n",
    "\n",
    "if __name__ == '__main__' :\n",
    "    bar_data_df = pd.read_csv('C:/Users/lenovo/Desktop/test/IF_bar_data.csv')\n",
    "    bar_data_df_if = bar_data_df.loc[(bar_data_df['symbol'] == 'IF888') & (bar_data_df['interval'] == '1m')]\n",
    "    move_df_to_sql(bar_data_df_if)"
   ]
  },
  {
   "cell_type": "code",
   "execution_count": 3,
   "metadata": {},
   "outputs": [],
   "source": [
    "# bar_data_df = pd.read_csv('C:/Users/lenovo/Desktop/test/IF_bar_data.csv')\n",
    "# bar_data_df[bar_data_df['symbol']=='IF888']['interval'].unique()"
   ]
  }
 ],
 "metadata": {
  "kernelspec": {
   "display_name": "mlfinance",
   "language": "python",
   "name": "mlfinance"
  },
  "language_info": {
   "codemirror_mode": {
    "name": "ipython",
    "version": 3
   },
   "file_extension": ".py",
   "mimetype": "text/x-python",
   "name": "python",
   "nbconvert_exporter": "python",
   "pygments_lexer": "ipython3",
   "version": "3.7.1"
  }
 },
 "nbformat": 4,
 "nbformat_minor": 2
}
