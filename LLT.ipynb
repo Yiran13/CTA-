{
 "cells": [
  {
   "cell_type": "code",
   "execution_count": 20,
   "metadata": {
    "tags": [
     "导入package"
    ]
   },
   "outputs": [],
   "source": [
    "import pandas as pd\n",
    "import numpy as np\n",
    "import matplotlib.pyplot as plt"
   ]
  },
  {
   "cell_type": "code",
   "execution_count": 43,
   "metadata": {
    "tags": [
     "读取数据"
    ]
   },
   "outputs": [],
   "source": [
    "bar_data_df = pd.read_csv('C:/Users/lenovo/Desktop/test/IF_bar_data.csv')\n",
    "bar_data_df_if = bar_data_df.loc[(bar_data_df['symbol'] == 'IF888') & (bar_data_df['interval'] == '1m')]\n",
    "bar_data_df.to_csv('E:/IF888.csv',index=False) "
   ]
  },
  {
   "cell_type": "code",
   "execution_count": 25,
   "metadata": {},
   "outputs": [],
   "source": [
    "class DataAnalysis:\n",
    "    '''读取数据 合成K线'''\n",
    "\n",
    "    def __init__(self,one_minute_df):\n",
    "\n",
    "        self.one_minute_data= one_minute_df\n",
    "        self.one_minute_data.set_index(pd.to_datetime(self.one_minute_data['datetime']),inplace=True)\n",
    "        \n",
    "    def generate_n_period_data(self,interval:str):\n",
    "        '''分钟：nT 天：nD'''\n",
    "        data = pd.DataFrame()\n",
    "        data['open'] = self.one_minute_data['open'].resample(interval,label='right').first()\n",
    "        data['high'] = self.one_minute_data['high'].resample(interval,label='right').max()\n",
    "        data['low'] = self.one_minute_data['low'].resample(interval,label='right').min()\n",
    "        data['close'] = self.one_minute_data['close'].resample(interval,label='right').last()\n",
    "        data['volume'] = self.one_minute_data['volume'].resample(interval,label='right').sum()\n",
    "        data['open_interest'] = self.one_minute_data['close'].resample(interval,label='right').last()\n",
    "        return data"
   ]
  },
  {
   "cell_type": "code",
   "execution_count": 11,
   "metadata": {},
   "outputs": [],
   "source": [
    "def getLLT(price_array:np.array, alpha:float):\n",
    "    LLT_list = []\n",
    "    LLT_list.append(price_array[0])\n",
    "    LLT_list.append(price_array[1])\n",
    "    for t in range(2,price_array.shape[0]):\n",
    "        value = (alpha-alpha**2/4)*price_array[t]+(alpha**2/2)*price_array[t-1]-(alpha-3*(alpha**2)/4)*price_array[t-2]+2*(1-alpha)*LLT_list[t-1]-(1-alpha)**2*LLT_list[t-2]\n",
    "        LLT_list.append(value)\n",
    "    return LLT_list\n",
    "\n",
    "    "
   ]
  },
  {
   "cell_type": "code",
   "execution_count": 26,
   "metadata": {},
   "outputs": [],
   "source": [
    "bar_generator = DataAnalysis(bar_data_df)"
   ]
  },
  {
   "cell_type": "code",
   "execution_count": 34,
   "metadata": {},
   "outputs": [
    {
     "data": {
      "text/html": [
       "<div>\n",
       "<style scoped>\n",
       "    .dataframe tbody tr th:only-of-type {\n",
       "        vertical-align: middle;\n",
       "    }\n",
       "\n",
       "    .dataframe tbody tr th {\n",
       "        vertical-align: top;\n",
       "    }\n",
       "\n",
       "    .dataframe thead th {\n",
       "        text-align: right;\n",
       "    }\n",
       "</style>\n",
       "<table border=\"1\" class=\"dataframe\">\n",
       "  <thead>\n",
       "    <tr style=\"text-align: right;\">\n",
       "      <th></th>\n",
       "      <th>open</th>\n",
       "      <th>high</th>\n",
       "      <th>low</th>\n",
       "      <th>close</th>\n",
       "      <th>volume</th>\n",
       "      <th>open_interest</th>\n",
       "    </tr>\n",
       "    <tr>\n",
       "      <th>datetime</th>\n",
       "      <th></th>\n",
       "      <th></th>\n",
       "      <th></th>\n",
       "      <th></th>\n",
       "      <th></th>\n",
       "      <th></th>\n",
       "    </tr>\n",
       "  </thead>\n",
       "  <tbody>\n",
       "    <tr>\n",
       "      <th>2010-01-31</th>\n",
       "      <td>4290.0</td>\n",
       "      <td>4707.000</td>\n",
       "      <td>4022.0</td>\n",
       "      <td>4357.0</td>\n",
       "      <td>7.924745e+07</td>\n",
       "      <td>4357.0</td>\n",
       "    </tr>\n",
       "    <tr>\n",
       "      <th>2011-04-30</th>\n",
       "      <td>4084.0</td>\n",
       "      <td>5230.000</td>\n",
       "      <td>1684.2</td>\n",
       "      <td>2207.4</td>\n",
       "      <td>1.903874e+09</td>\n",
       "      <td>2207.4</td>\n",
       "    </tr>\n",
       "    <tr>\n",
       "      <th>2012-07-31</th>\n",
       "      <td>2173.4</td>\n",
       "      <td>5004.000</td>\n",
       "      <td>1181.8</td>\n",
       "      <td>1258.8</td>\n",
       "      <td>1.080113e+09</td>\n",
       "      <td>1258.8</td>\n",
       "    </tr>\n",
       "    <tr>\n",
       "      <th>2013-10-31</th>\n",
       "      <td>1209.8</td>\n",
       "      <td>4240.644</td>\n",
       "      <td>769.8</td>\n",
       "      <td>1219.8</td>\n",
       "      <td>3.734798e+09</td>\n",
       "      <td>1219.8</td>\n",
       "    </tr>\n",
       "    <tr>\n",
       "      <th>2015-01-31</th>\n",
       "      <td>1172.8</td>\n",
       "      <td>3806.648</td>\n",
       "      <td>837.8</td>\n",
       "      <td>1428.0</td>\n",
       "      <td>4.557718e+09</td>\n",
       "      <td>1428.0</td>\n",
       "    </tr>\n",
       "    <tr>\n",
       "      <th>2016-04-30</th>\n",
       "      <td>2024.2</td>\n",
       "      <td>5396.800</td>\n",
       "      <td>117.0</td>\n",
       "      <td>1429.0</td>\n",
       "      <td>7.272068e+09</td>\n",
       "      <td>1429.0</td>\n",
       "    </tr>\n",
       "    <tr>\n",
       "      <th>2017-07-31</th>\n",
       "      <td>2545.6</td>\n",
       "      <td>3748.000</td>\n",
       "      <td>453.0</td>\n",
       "      <td>2860.7</td>\n",
       "      <td>2.708142e+10</td>\n",
       "      <td>2860.7</td>\n",
       "    </tr>\n",
       "    <tr>\n",
       "      <th>2018-10-31</th>\n",
       "      <td>2844.1</td>\n",
       "      <td>20093.000</td>\n",
       "      <td>2317.0</td>\n",
       "      <td>6307.0</td>\n",
       "      <td>1.728255e+12</td>\n",
       "      <td>6307.0</td>\n",
       "    </tr>\n",
       "    <tr>\n",
       "      <th>2020-01-31</th>\n",
       "      <td>6311.5</td>\n",
       "      <td>13920.000</td>\n",
       "      <td>2857.0</td>\n",
       "      <td>9321.0</td>\n",
       "      <td>1.168409e+12</td>\n",
       "      <td>9321.0</td>\n",
       "    </tr>\n",
       "  </tbody>\n",
       "</table>\n",
       "</div>"
      ],
      "text/plain": [
       "              open       high     low   close        volume  open_interest\n",
       "datetime                                                                  \n",
       "2010-01-31  4290.0   4707.000  4022.0  4357.0  7.924745e+07         4357.0\n",
       "2011-04-30  4084.0   5230.000  1684.2  2207.4  1.903874e+09         2207.4\n",
       "2012-07-31  2173.4   5004.000  1181.8  1258.8  1.080113e+09         1258.8\n",
       "2013-10-31  1209.8   4240.644   769.8  1219.8  3.734798e+09         1219.8\n",
       "2015-01-31  1172.8   3806.648   837.8  1428.0  4.557718e+09         1428.0\n",
       "2016-04-30  2024.2   5396.800   117.0  1429.0  7.272068e+09         1429.0\n",
       "2017-07-31  2545.6   3748.000   453.0  2860.7  2.708142e+10         2860.7\n",
       "2018-10-31  2844.1  20093.000  2317.0  6307.0  1.728255e+12         6307.0\n",
       "2020-01-31  6311.5  13920.000  2857.0  9321.0  1.168409e+12         9321.0"
      ]
     },
     "execution_count": 34,
     "metadata": {},
     "output_type": "execute_result"
    }
   ],
   "source": [
    "minute_bar\n"
   ]
  },
  {
   "cell_type": "code",
   "execution_count": 31,
   "metadata": {},
   "outputs": [],
   "source": [
    "minute_bar=bar_generator.generate_n_period_data('15M')"
   ]
  },
  {
   "cell_type": "code",
   "execution_count": 37,
   "metadata": {},
   "outputs": [],
   "source": [
    "price_array = minute_bar['close'].values\n",
    "LLT_1 = getLLT(price_array,0.03)\n",
    "LLT_2 = getLLT(price_array,0.04)\n",
    "LLT_3 = getLLT(price_array,0.05)"
   ]
  },
  {
   "cell_type": "code",
   "execution_count": 40,
   "metadata": {},
   "outputs": [],
   "source": [
    "combine_df = pd.DataFrame({'close_price':price_array,'LLT_1':LLT_1,'LLT_2':LLT_2,'LLT_3':LLT_3},index = minute_bar.index)\n"
   ]
  },
  {
   "cell_type": "code",
   "execution_count": 42,
   "metadata": {},
   "outputs": [
    {
     "data": {
      "text/html": [
       "<div>\n",
       "<style scoped>\n",
       "    .dataframe tbody tr th:only-of-type {\n",
       "        vertical-align: middle;\n",
       "    }\n",
       "\n",
       "    .dataframe tbody tr th {\n",
       "        vertical-align: top;\n",
       "    }\n",
       "\n",
       "    .dataframe thead th {\n",
       "        text-align: right;\n",
       "    }\n",
       "</style>\n",
       "<table border=\"1\" class=\"dataframe\">\n",
       "  <thead>\n",
       "    <tr style=\"text-align: right;\">\n",
       "      <th></th>\n",
       "      <th>close_price</th>\n",
       "      <th>LLT_1</th>\n",
       "      <th>LLT_2</th>\n",
       "      <th>LLT_3</th>\n",
       "    </tr>\n",
       "    <tr>\n",
       "      <th>datetime</th>\n",
       "      <th></th>\n",
       "      <th></th>\n",
       "      <th></th>\n",
       "      <th></th>\n",
       "    </tr>\n",
       "  </thead>\n",
       "  <tbody>\n",
       "    <tr>\n",
       "      <th>2010-01-31</th>\n",
       "      <td>4357.0</td>\n",
       "      <td>4357.000000</td>\n",
       "      <td>4357.000000</td>\n",
       "      <td>4357.000000</td>\n",
       "    </tr>\n",
       "    <tr>\n",
       "      <th>2011-04-30</th>\n",
       "      <td>2207.4</td>\n",
       "      <td>2207.400000</td>\n",
       "      <td>2207.400000</td>\n",
       "      <td>2207.400000</td>\n",
       "    </tr>\n",
       "    <tr>\n",
       "      <th>2012-07-31</th>\n",
       "      <td>1258.8</td>\n",
       "      <td>93.559775</td>\n",
       "      <td>105.359600</td>\n",
       "      <td>117.099375</td>\n",
       "    </tr>\n",
       "    <tr>\n",
       "      <th>2013-10-31</th>\n",
       "      <td>1219.8</td>\n",
       "      <td>-1923.282697</td>\n",
       "      <td>-1868.385408</td>\n",
       "      <td>-1814.119687</td>\n",
       "    </tr>\n",
       "    <tr>\n",
       "      <th>2015-01-31</th>\n",
       "      <td>1428.0</td>\n",
       "      <td>-3813.045524</td>\n",
       "      <td>-3675.716191</td>\n",
       "      <td>-3541.057092</td>\n",
       "    </tr>\n",
       "    <tr>\n",
       "      <th>2016-04-30</th>\n",
       "      <td>1429.0</td>\n",
       "      <td>-5580.271186</td>\n",
       "      <td>-5325.068534</td>\n",
       "      <td>-5077.126457</td>\n",
       "    </tr>\n",
       "    <tr>\n",
       "      <th>2017-07-31</th>\n",
       "      <td>2860.7</td>\n",
       "      <td>-7194.087276</td>\n",
       "      <td>-6777.571024</td>\n",
       "      <td>-6376.425430</td>\n",
       "    </tr>\n",
       "    <tr>\n",
       "      <th>2018-10-31</th>\n",
       "      <td>6307.0</td>\n",
       "      <td>-8558.879341</td>\n",
       "      <td>-7908.752645</td>\n",
       "      <td>-7286.888315</td>\n",
       "    </tr>\n",
       "    <tr>\n",
       "      <th>2020-01-31</th>\n",
       "      <td>9321.0</td>\n",
       "      <td>-9638.828307</td>\n",
       "      <td>-8675.433583</td>\n",
       "      <td>-7759.926911</td>\n",
       "    </tr>\n",
       "  </tbody>\n",
       "</table>\n",
       "</div>"
      ],
      "text/plain": [
       "            close_price        LLT_1        LLT_2        LLT_3\n",
       "datetime                                                      \n",
       "2010-01-31       4357.0  4357.000000  4357.000000  4357.000000\n",
       "2011-04-30       2207.4  2207.400000  2207.400000  2207.400000\n",
       "2012-07-31       1258.8    93.559775   105.359600   117.099375\n",
       "2013-10-31       1219.8 -1923.282697 -1868.385408 -1814.119687\n",
       "2015-01-31       1428.0 -3813.045524 -3675.716191 -3541.057092\n",
       "2016-04-30       1429.0 -5580.271186 -5325.068534 -5077.126457\n",
       "2017-07-31       2860.7 -7194.087276 -6777.571024 -6376.425430\n",
       "2018-10-31       6307.0 -8558.879341 -7908.752645 -7286.888315\n",
       "2020-01-31       9321.0 -9638.828307 -8675.433583 -7759.926911"
      ]
     },
     "execution_count": 42,
     "metadata": {},
     "output_type": "execute_result"
    }
   ],
   "source": [
    "combine_df"
   ]
  },
  {
   "cell_type": "code",
   "execution_count": 41,
   "metadata": {},
   "outputs": [
    {
     "data": {
      "text/plain": [
       "<matplotlib.axes._subplots.AxesSubplot at 0x1c9bbc5d518>"
      ]
     },
     "execution_count": 41,
     "metadata": {},
     "output_type": "execute_result"
    },
    {
     "data": {
      "image/png": "[encoded data removed]",
      "text/plain": [
       "<Figure size 1800x720 with 1 Axes>"
      ]
     },
     "metadata": {
      "needs_background": "light"
     },
     "output_type": "display_data"
    }
   ],
   "source": [
    "combine_df[['close_price','LLT_1','LLT_2']].plot(figsize=(25,10))"
   ]
  },
  {
   "cell_type": "code",
   "execution_count": null,
   "metadata": {},
   "outputs": [],
   "source": []
  }
 ],
 "metadata": {
  "celltoolbar": "Tags",
  "kernelspec": {
   "display_name": "mlfinance",
   "language": "python",
   "name": "mlfinance"
  },
  "language_info": {
   "codemirror_mode": {
    "name": "ipython",
    "version": 3
   },
   "file_extension": ".py",
   "mimetype": "text/x-python",
   "name": "python",
   "nbconvert_exporter": "python",
   "pygments_lexer": "ipython3",
   "version": "3.7.1"
  }
 },
 "nbformat": 4,
 "nbformat_minor": 2
}
